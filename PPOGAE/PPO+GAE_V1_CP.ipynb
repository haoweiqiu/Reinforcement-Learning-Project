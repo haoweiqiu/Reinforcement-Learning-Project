{
 "cells": [
  {
   "cell_type": "code",
   "execution_count": 41,
   "metadata": {},
   "outputs": [],
   "source": [
    "import torch\n",
    "import gym\n",
    "import torch.optim as optim\n",
    "import torch.nn as nn\n",
    "import matplotlib.pyplot as plt\n",
    "import pandas as pd\n",
    "\n",
    "\n",
    "device = torch.device(\"cuda\" if torch.cuda.is_available() else \"cpu\")\n",
    "\n",
    "class AgentConfig:\n",
    "    # Learning\n",
    "    gamma = 0.99\n",
    "    plot_every = 10\n",
    "    update_freq = 1\n",
    "    k_epoch = 3\n",
    "    learning_rate = 0.02\n",
    "    lmbda = 0.95\n",
    "    eps_clip = 0.2\n",
    "    v_coef = 1\n",
    "    entropy_coef = 0.01\n",
    "\n",
    "    # Memory\n",
    "    memory_size = 400\n",
    "\n",
    "    train_cartpole = True\n",
    "\n",
    "class MlpPolicy(nn.Module):\n",
    "    def __init__(self, action_size, input_size=4):\n",
    "        super(MlpPolicy, self).__init__()\n",
    "        self.action_size = action_size\n",
    "        self.input_size = input_size\n",
    "        self.fc1 = nn.Linear(self.input_size, 24)\n",
    "        self.fc2 = nn.Linear(24, 24)\n",
    "        self.fc3_pi = nn.Linear(24, self.action_size)\n",
    "        self.fc3_v = nn.Linear(24, 1)\n",
    "        self.tanh = nn.Tanh()\n",
    "        self.relu = nn.ReLU()\n",
    "        self.softmax = nn.Softmax(dim=-1)\n",
    "\n",
    "    def pi(self, x):\n",
    "        x = self.relu(self.fc1(x))\n",
    "        x = self.relu(self.fc2(x))\n",
    "        x = self.fc3_pi(x)\n",
    "        return self.softmax(x)\n",
    "\n",
    "    def v(self, x):\n",
    "        x = self.relu(self.fc1(x))\n",
    "        x = self.relu(self.fc2(x))\n",
    "        x = self.fc3_v(x)\n",
    "        return x\n",
    "\n",
    "\n",
    "class Agent(AgentConfig):\n",
    "    def __init__(self):\n",
    "        self.env = gym.make('CartPole-v1')\n",
    "        self.action_size = self.env.action_space.n  # 2 for cartpole\n",
    "        if self.train_cartpole:\n",
    "            self.policy_network = MlpPolicy(action_size=self.action_size).to(device)\n",
    "        self.optimizer = optim.Adam(self.policy_network.parameters(), lr=self.learning_rate)\n",
    "        self.scheduler = optim.lr_scheduler.StepLR(self.optimizer, step_size=self.k_epoch,\n",
    "                                                   gamma=0.999)\n",
    "        self.loss = 0\n",
    "        self.criterion = nn.MSELoss()\n",
    "        self.memory = {\n",
    "            'state': [], 'action': [], 'reward': [], 'next_state': [], 'action_prob': [], 'terminal': [], 'count': 0,\n",
    "            'advantage': [], 'td_target': torch.FloatTensor([])\n",
    "        }\n",
    "\n",
    "    def new_random_game(self):\n",
    "        self.env.reset()\n",
    "        action = self.env.action_space.sample()\n",
    "        obs, reward, terminal, info = self.env.step(action)\n",
    "        return obs, reward, action, terminal\n",
    "\n",
    "    def train(self):\n",
    "        episode = 0\n",
    "        step = 0\n",
    "        reward_history = []\n",
    "        avg_reward = []\n",
    "        solved = False\n",
    "\n",
    "        # A new episode\n",
    "        while not solved:\n",
    "            start_step = step\n",
    "            episode += 1\n",
    "            episode_length = 0\n",
    "\n",
    "            # Get initial state\n",
    "            state, reward, action, terminal = self.new_random_game()\n",
    "            current_state = state\n",
    "            total_episode_reward = 1\n",
    "\n",
    "            # A step in an episode\n",
    "            while not solved:\n",
    "                step += 1\n",
    "                episode_length += 1\n",
    "\n",
    "                # Choose action\n",
    "                prob_a = self.policy_network.pi(torch.FloatTensor(current_state).to(device))\n",
    "                # print(prob_a)\n",
    "                action = torch.distributions.Categorical(prob_a).sample().item()\n",
    "\n",
    "                # Act\n",
    "                state, reward, terminal, _ = self.env.step(action)\n",
    "                new_state = state\n",
    "\n",
    "                reward = -1 if terminal else reward\n",
    "\n",
    "                self.add_memory(current_state, action, reward/10.0, new_state, terminal, prob_a[action].item())\n",
    "\n",
    "                current_state = new_state\n",
    "                total_episode_reward += reward\n",
    "\n",
    "                if terminal:\n",
    "                    episode_length = step - start_step\n",
    "                    reward_history.append(total_episode_reward)\n",
    "                    avg_reward.append(sum(reward_history[-10:])/10.0)\n",
    "\n",
    "                    self.finish_path(episode_length)\n",
    "\n",
    "                    if episode > 300:\n",
    "                        solved = True\n",
    "\n",
    "                    print('episode: %.2f, total step: %.2f, last_episode length: %.2f, last_episode_reward: %.2f, '\n",
    "                          'loss: %.4f, lr: %.4f' % (episode, step, episode_length, total_episode_reward, self.loss,\n",
    "                                                    self.scheduler.get_lr()[0]))\n",
    "\n",
    "                    self.env.reset()\n",
    "\n",
    "                    break\n",
    "\n",
    "            if episode % self.update_freq == 0:\n",
    "                for _ in range(self.k_epoch):\n",
    "                    self.update_network()\n",
    "\n",
    "            if episode % self.plot_every == 0:\n",
    "                plot_graph(reward_history, avg_reward)\n",
    "\n",
    "        self.env.close()\n",
    "        return reward_history\n",
    "\n",
    "    def update_network(self):\n",
    "        # get ratio\n",
    "        pi = self.policy_network.pi(torch.FloatTensor(self.memory['state']).to(device))\n",
    "        new_probs_a = torch.gather(pi, 1, torch.tensor(self.memory['action']))\n",
    "        old_probs_a = torch.FloatTensor(self.memory['action_prob'])\n",
    "        ratio = torch.exp(torch.log(new_probs_a) - torch.log(old_probs_a))\n",
    "\n",
    "        # surrogate loss\n",
    "        surr1 = ratio * torch.FloatTensor(self.memory['advantage'])\n",
    "        surr2 = torch.clamp(ratio, 1 - self.eps_clip, 1 + self.eps_clip) * torch.FloatTensor(self.memory['advantage'])\n",
    "        pred_v = self.policy_network.v(torch.FloatTensor(self.memory['state']).to(device))\n",
    "        v_loss = 0.5 * (pred_v - self.memory['td_target']).pow(2)  # Huber loss\n",
    "        entropy = torch.distributions.Categorical(pi).entropy()\n",
    "        entropy = torch.tensor([[e] for e in entropy])\n",
    "        self.loss = (-torch.min(surr1, surr2) + self.v_coef * v_loss - self.entropy_coef * entropy).mean()\n",
    "\n",
    "        self.optimizer.zero_grad()\n",
    "        self.loss.backward()\n",
    "        self.optimizer.step()\n",
    "        self.scheduler.step()\n",
    "\n",
    "    def add_memory(self, s, a, r, next_s, t, prob):\n",
    "        if self.memory['count'] < self.memory_size:\n",
    "            self.memory['count'] += 1\n",
    "        else:\n",
    "            self.memory['state'] = self.memory['state'][1:]\n",
    "            self.memory['action'] = self.memory['action'][1:]\n",
    "            self.memory['reward'] = self.memory['reward'][1:]\n",
    "            self.memory['next_state'] = self.memory['next_state'][1:]\n",
    "            self.memory['terminal'] = self.memory['terminal'][1:]\n",
    "            self.memory['action_prob'] = self.memory['action_prob'][1:]\n",
    "            self.memory['advantage'] = self.memory['advantage'][1:]\n",
    "            self.memory['td_target'] = self.memory['td_target'][1:]\n",
    "\n",
    "        self.memory['state'].append(s)\n",
    "        self.memory['action'].append([a])\n",
    "        self.memory['reward'].append([r])\n",
    "        self.memory['next_state'].append(next_s)\n",
    "        self.memory['terminal'].append([1 - t])\n",
    "        self.memory['action_prob'].append(prob)\n",
    "\n",
    "    def finish_path(self, length):\n",
    "        state = self.memory['state'][-length:]\n",
    "        reward = self.memory['reward'][-length:]\n",
    "        next_state = self.memory['next_state'][-length:]\n",
    "        terminal = self.memory['terminal'][-length:]\n",
    "\n",
    "        td_target = torch.FloatTensor(reward) + \\\n",
    "                    self.gamma * self.policy_network.v(torch.FloatTensor(next_state)) * torch.FloatTensor(terminal)\n",
    "        delta = td_target - self.policy_network.v(torch.FloatTensor(state))\n",
    "        delta = delta.detach().numpy()\n",
    "\n",
    "        # get advantage\n",
    "        advantages = []\n",
    "        adv = 0.0\n",
    "        for d in delta[::-1]:\n",
    "            adv = self.gamma * self.lmbda * adv + d[0]\n",
    "            advantages.append([adv])\n",
    "        advantages.reverse()\n",
    "\n",
    "        if self.memory['td_target'].shape == torch.Size([1, 0]):\n",
    "            self.memory['td_target'] = td_target.data\n",
    "        else:\n",
    "            self.memory['td_target'] = torch.cat((self.memory['td_target'], td_target.data), dim=0)\n",
    "        self.memory['advantage'] += advantages\n",
    "\n",
    "\n",
    "def plot_graph(reward_history, avg_reward):\n",
    "    df = pd.DataFrame({'x': range(len(reward_history)), 'Reward': reward_history, 'Average': avg_reward})\n",
    "    plt.style.use('seaborn-darkgrid')\n",
    "    palette = plt.get_cmap('Set1')\n",
    "\n",
    "    plt.plot(np.array(df['x']), np.array(df['Reward']), marker='', color=palette(1), linewidth=0.8, alpha=0.9, label='Reward')\n",
    "\n",
    "    # plt.legend(loc='upper left')\n",
    "    plt.title(\"CartPole\", fontsize=14)\n",
    "    plt.xlabel(\"episode\", fontsize=12)\n",
    "    plt.ylabel(\"score\", fontsize=12)\n",
    "\n",
    "    plt.savefig('score.png')"
   ]
  },
  {
   "cell_type": "code",
   "execution_count": 45,
   "metadata": {},
   "outputs": [],
   "source": [
    "reward_list = []"
   ]
  },
  {
   "cell_type": "code",
   "execution_count": 76,
   "metadata": {},
   "outputs": [
    {
     "name": "stderr",
     "output_type": "stream",
     "text": [
      "C:\\Users\\chery\\AppData\\Local\\Packages\\PythonSoftwareFoundation.Python.3.8_qbz5n2kfra8p0\\LocalCache\\local-packages\\Python38\\site-packages\\torch\\optim\\lr_scheduler.py:384: UserWarning: To get the last learning rate computed by the scheduler, please use `get_last_lr()`.\n",
      "  warnings.warn(\"To get the last learning rate computed by the scheduler, \"\n"
     ]
    },
    {
     "name": "stdout",
     "output_type": "stream",
     "text": [
      "episode: 1.00, total step: 55.00, last_episode length: 55.00, last_episode_reward: 54.00, loss: 0.0000, lr: 0.0200\n",
      "episode: 2.00, total step: 69.00, last_episode length: 14.00, last_episode_reward: 13.00, loss: -1.2314, lr: 0.0200\n",
      "episode: 3.00, total step: 106.00, last_episode length: 37.00, last_episode_reward: 36.00, loss: -1.0915, lr: 0.0199\n",
      "episode: 4.00, total step: 122.00, last_episode length: 16.00, last_episode_reward: 15.00, loss: -1.0369, lr: 0.0199\n",
      "episode: 5.00, total step: 138.00, last_episode length: 16.00, last_episode_reward: 15.00, loss: -0.9688, lr: 0.0199\n",
      "episode: 6.00, total step: 165.00, last_episode length: 27.00, last_episode_reward: 26.00, loss: -0.9097, lr: 0.0199\n",
      "episode: 7.00, total step: 177.00, last_episode length: 12.00, last_episode_reward: 11.00, loss: -0.8781, lr: 0.0199\n",
      "episode: 8.00, total step: 208.00, last_episode length: 31.00, last_episode_reward: 30.00, loss: -0.8400, lr: 0.0198\n",
      "episode: 9.00, total step: 252.00, last_episode length: 44.00, last_episode_reward: 43.00, loss: -0.8230, lr: 0.0198\n",
      "episode: 10.00, total step: 281.00, last_episode length: 29.00, last_episode_reward: 28.00, loss: -0.8470, lr: 0.0198\n",
      "episode: 11.00, total step: 294.00, last_episode length: 13.00, last_episode_reward: 12.00, loss: -0.8336, lr: 0.0198\n",
      "episode: 12.00, total step: 305.00, last_episode length: 11.00, last_episode_reward: 10.00, loss: -0.8107, lr: 0.0198\n",
      "episode: 13.00, total step: 392.00, last_episode length: 87.00, last_episode_reward: 86.00, loss: -0.7916, lr: 0.0197\n",
      "episode: 14.00, total step: 413.00, last_episode length: 21.00, last_episode_reward: 20.00, loss: -0.8979, lr: 0.0197\n"
     ]
    },
    {
     "name": "stderr",
     "output_type": "stream",
     "text": [
      "C:\\Users\\chery\\AppData\\Local\\Packages\\PythonSoftwareFoundation.Python.3.8_qbz5n2kfra8p0\\LocalCache\\local-packages\\Python38\\site-packages\\torch\\optim\\lr_scheduler.py:384: UserWarning: To get the last learning rate computed by the scheduler, please use `get_last_lr()`.\n",
      "  warnings.warn(\"To get the last learning rate computed by the scheduler, \"\n"
     ]
    },
    {
     "name": "stdout",
     "output_type": "stream",
     "text": [
      "episode: 15.00, total step: 425.00, last_episode length: 12.00, last_episode_reward: 11.00, loss: -0.8565, lr: 0.0197\n",
      "episode: 16.00, total step: 482.00, last_episode length: 57.00, last_episode_reward: 56.00, loss: -0.8216, lr: 0.0197\n",
      "episode: 17.00, total step: 514.00, last_episode length: 32.00, last_episode_reward: 31.00, loss: -0.8514, lr: 0.0197\n",
      "episode: 18.00, total step: 535.00, last_episode length: 21.00, last_episode_reward: 20.00, loss: -0.8549, lr: 0.0196\n",
      "episode: 19.00, total step: 605.00, last_episode length: 70.00, last_episode_reward: 69.00, loss: -0.8535, lr: 0.0196\n",
      "episode: 20.00, total step: 643.00, last_episode length: 38.00, last_episode_reward: 37.00, loss: -0.9315, lr: 0.0196\n"
     ]
    },
    {
     "name": "stderr",
     "output_type": "stream",
     "text": [
      "C:\\Users\\chery\\AppData\\Local\\Packages\\PythonSoftwareFoundation.Python.3.8_qbz5n2kfra8p0\\LocalCache\\local-packages\\Python38\\site-packages\\torch\\optim\\lr_scheduler.py:384: UserWarning: To get the last learning rate computed by the scheduler, please use `get_last_lr()`.\n",
      "  warnings.warn(\"To get the last learning rate computed by the scheduler, \"\n"
     ]
    },
    {
     "name": "stdout",
     "output_type": "stream",
     "text": [
      "episode: 21.00, total step: 721.00, last_episode length: 78.00, last_episode_reward: 77.00, loss: -0.9118, lr: 0.0196\n",
      "episode: 22.00, total step: 779.00, last_episode length: 58.00, last_episode_reward: 57.00, loss: -1.0096, lr: 0.0196\n",
      "episode: 23.00, total step: 801.00, last_episode length: 22.00, last_episode_reward: 21.00, loss: -0.9607, lr: 0.0195\n",
      "episode: 24.00, total step: 855.00, last_episode length: 54.00, last_episode_reward: 53.00, loss: -0.9563, lr: 0.0195\n",
      "episode: 25.00, total step: 884.00, last_episode length: 29.00, last_episode_reward: 28.00, loss: -0.9529, lr: 0.0195\n",
      "episode: 26.00, total step: 903.00, last_episode length: 19.00, last_episode_reward: 18.00, loss: -0.9423, lr: 0.0195\n",
      "episode: 27.00, total step: 940.00, last_episode length: 37.00, last_episode_reward: 36.00, loss: -0.9117, lr: 0.0195\n",
      "episode: 28.00, total step: 953.00, last_episode length: 13.00, last_episode_reward: 12.00, loss: -0.9343, lr: 0.0194\n",
      "episode: 29.00, total step: 1076.00, last_episode length: 123.00, last_episode_reward: 122.00, loss: -0.8881, lr: 0.0194\n",
      "episode: 30.00, total step: 1106.00, last_episode length: 30.00, last_episode_reward: 29.00, loss: -0.9370, lr: 0.0194\n",
      "episode: 31.00, total step: 1189.00, last_episode length: 83.00, last_episode_reward: 82.00, loss: -0.8884, lr: 0.0194\n",
      "episode: 32.00, total step: 1205.00, last_episode length: 16.00, last_episode_reward: 15.00, loss: -0.9516, lr: 0.0194\n"
     ]
    },
    {
     "name": "stderr",
     "output_type": "stream",
     "text": [
      "C:\\Users\\chery\\AppData\\Local\\Packages\\PythonSoftwareFoundation.Python.3.8_qbz5n2kfra8p0\\LocalCache\\local-packages\\Python38\\site-packages\\torch\\optim\\lr_scheduler.py:384: UserWarning: To get the last learning rate computed by the scheduler, please use `get_last_lr()`.\n",
      "  warnings.warn(\"To get the last learning rate computed by the scheduler, \"\n"
     ]
    },
    {
     "name": "stdout",
     "output_type": "stream",
     "text": [
      "episode: 33.00, total step: 1333.00, last_episode length: 128.00, last_episode_reward: 127.00, loss: -0.9402, lr: 0.0194\n",
      "episode: 34.00, total step: 1424.00, last_episode length: 91.00, last_episode_reward: 90.00, loss: -1.1101, lr: 0.0193\n",
      "episode: 35.00, total step: 1486.00, last_episode length: 62.00, last_episode_reward: 61.00, loss: -1.0760, lr: 0.0193\n",
      "episode: 36.00, total step: 1816.00, last_episode length: 330.00, last_episode_reward: 329.00, loss: -1.0603, lr: 0.0193\n",
      "episode: 37.00, total step: 2315.00, last_episode length: 499.00, last_episode_reward: 498.00, loss: -1.2379, lr: 0.0193\n",
      "episode: 38.00, total step: 2660.00, last_episode length: 345.00, last_episode_reward: 344.00, loss: -1.3521, lr: 0.0193\n",
      "episode: 39.00, total step: 3159.00, last_episode length: 499.00, last_episode_reward: 498.00, loss: -1.2259, lr: 0.0192\n",
      "episode: 40.00, total step: 3658.00, last_episode length: 499.00, last_episode_reward: 498.00, loss: -1.3051, lr: 0.0192\n"
     ]
    },
    {
     "name": "stderr",
     "output_type": "stream",
     "text": [
      "C:\\Users\\chery\\AppData\\Local\\Packages\\PythonSoftwareFoundation.Python.3.8_qbz5n2kfra8p0\\LocalCache\\local-packages\\Python38\\site-packages\\torch\\optim\\lr_scheduler.py:384: UserWarning: To get the last learning rate computed by the scheduler, please use `get_last_lr()`.\n",
      "  warnings.warn(\"To get the last learning rate computed by the scheduler, \"\n"
     ]
    },
    {
     "name": "stdout",
     "output_type": "stream",
     "text": [
      "episode: 41.00, total step: 4157.00, last_episode length: 499.00, last_episode_reward: 498.00, loss: -1.2706, lr: 0.0192\n",
      "episode: 42.00, total step: 4588.00, last_episode length: 431.00, last_episode_reward: 430.00, loss: -1.2567, lr: 0.0192\n",
      "episode: 43.00, total step: 4843.00, last_episode length: 255.00, last_episode_reward: 254.00, loss: -1.1982, lr: 0.0192\n",
      "episode: 44.00, total step: 5147.00, last_episode length: 304.00, last_episode_reward: 303.00, loss: -1.0791, lr: 0.0191\n",
      "episode: 45.00, total step: 5533.00, last_episode length: 386.00, last_episode_reward: 385.00, loss: -1.0690, lr: 0.0191\n",
      "episode: 46.00, total step: 5915.00, last_episode length: 382.00, last_episode_reward: 381.00, loss: -1.1117, lr: 0.0191\n",
      "episode: 47.00, total step: 6414.00, last_episode length: 499.00, last_episode_reward: 498.00, loss: -1.0904, lr: 0.0191\n",
      "episode: 48.00, total step: 6782.00, last_episode length: 368.00, last_episode_reward: 367.00, loss: -1.1031, lr: 0.0191\n",
      "episode: 49.00, total step: 7281.00, last_episode length: 499.00, last_episode_reward: 498.00, loss: -1.0113, lr: 0.0190\n",
      "episode: 50.00, total step: 7780.00, last_episode length: 499.00, last_episode_reward: 498.00, loss: -1.0788, lr: 0.0190\n"
     ]
    },
    {
     "name": "stderr",
     "output_type": "stream",
     "text": [
      "C:\\Users\\chery\\AppData\\Local\\Packages\\PythonSoftwareFoundation.Python.3.8_qbz5n2kfra8p0\\LocalCache\\local-packages\\Python38\\site-packages\\torch\\optim\\lr_scheduler.py:384: UserWarning: To get the last learning rate computed by the scheduler, please use `get_last_lr()`.\n",
      "  warnings.warn(\"To get the last learning rate computed by the scheduler, \"\n"
     ]
    },
    {
     "name": "stdout",
     "output_type": "stream",
     "text": [
      "episode: 51.00, total step: 8279.00, last_episode length: 499.00, last_episode_reward: 498.00, loss: -1.0805, lr: 0.0190\n",
      "episode: 52.00, total step: 8778.00, last_episode length: 499.00, last_episode_reward: 498.00, loss: -1.0739, lr: 0.0190\n",
      "episode: 53.00, total step: 9277.00, last_episode length: 499.00, last_episode_reward: 498.00, loss: -1.0378, lr: 0.0190\n",
      "episode: 54.00, total step: 9677.00, last_episode length: 400.00, last_episode_reward: 399.00, loss: -1.0224, lr: 0.0189\n",
      "episode: 55.00, total step: 10176.00, last_episode length: 499.00, last_episode_reward: 498.00, loss: -1.0875, lr: 0.0189\n",
      "episode: 56.00, total step: 10639.00, last_episode length: 463.00, last_episode_reward: 462.00, loss: -0.9589, lr: 0.0189\n",
      "episode: 57.00, total step: 10916.00, last_episode length: 277.00, last_episode_reward: 276.00, loss: -1.0911, lr: 0.0189\n",
      "episode: 58.00, total step: 11196.00, last_episode length: 280.00, last_episode_reward: 279.00, loss: -1.0082, lr: 0.0189\n",
      "episode: 59.00, total step: 11487.00, last_episode length: 291.00, last_episode_reward: 290.00, loss: -0.9569, lr: 0.0189\n",
      "episode: 60.00, total step: 11725.00, last_episode length: 238.00, last_episode_reward: 237.00, loss: -0.9821, lr: 0.0188\n"
     ]
    },
    {
     "name": "stderr",
     "output_type": "stream",
     "text": [
      "C:\\Users\\chery\\AppData\\Local\\Packages\\PythonSoftwareFoundation.Python.3.8_qbz5n2kfra8p0\\LocalCache\\local-packages\\Python38\\site-packages\\torch\\optim\\lr_scheduler.py:384: UserWarning: To get the last learning rate computed by the scheduler, please use `get_last_lr()`.\n",
      "  warnings.warn(\"To get the last learning rate computed by the scheduler, \"\n"
     ]
    },
    {
     "name": "stdout",
     "output_type": "stream",
     "text": [
      "episode: 61.00, total step: 12101.00, last_episode length: 376.00, last_episode_reward: 375.00, loss: -0.9631, lr: 0.0188\n",
      "episode: 62.00, total step: 12600.00, last_episode length: 499.00, last_episode_reward: 498.00, loss: -1.0288, lr: 0.0188\n",
      "episode: 63.00, total step: 13099.00, last_episode length: 499.00, last_episode_reward: 498.00, loss: -0.8939, lr: 0.0188\n",
      "episode: 64.00, total step: 13298.00, last_episode length: 199.00, last_episode_reward: 198.00, loss: -0.8822, lr: 0.0188\n",
      "episode: 65.00, total step: 13797.00, last_episode length: 499.00, last_episode_reward: 498.00, loss: -0.7953, lr: 0.0187\n",
      "episode: 66.00, total step: 14296.00, last_episode length: 499.00, last_episode_reward: 498.00, loss: -0.8579, lr: 0.0187\n",
      "episode: 67.00, total step: 14578.00, last_episode length: 282.00, last_episode_reward: 281.00, loss: -0.8354, lr: 0.0187\n",
      "episode: 68.00, total step: 15077.00, last_episode length: 499.00, last_episode_reward: 498.00, loss: -0.7613, lr: 0.0187\n",
      "episode: 69.00, total step: 15576.00, last_episode length: 499.00, last_episode_reward: 498.00, loss: -0.8113, lr: 0.0187\n",
      "episode: 70.00, total step: 15979.00, last_episode length: 403.00, last_episode_reward: 402.00, loss: -0.8100, lr: 0.0186\n",
      "episode: 71.00, total step: 16478.00, last_episode length: 499.00, last_episode_reward: 498.00, loss: -1.0089, lr: 0.0186\n"
     ]
    },
    {
     "name": "stderr",
     "output_type": "stream",
     "text": [
      "C:\\Users\\chery\\AppData\\Local\\Packages\\PythonSoftwareFoundation.Python.3.8_qbz5n2kfra8p0\\LocalCache\\local-packages\\Python38\\site-packages\\torch\\optim\\lr_scheduler.py:384: UserWarning: To get the last learning rate computed by the scheduler, please use `get_last_lr()`.\n",
      "  warnings.warn(\"To get the last learning rate computed by the scheduler, \"\n"
     ]
    },
    {
     "name": "stdout",
     "output_type": "stream",
     "text": [
      "episode: 72.00, total step: 16821.00, last_episode length: 343.00, last_episode_reward: 342.00, loss: -0.7983, lr: 0.0186\n",
      "episode: 73.00, total step: 17320.00, last_episode length: 499.00, last_episode_reward: 498.00, loss: -0.7493, lr: 0.0186\n",
      "episode: 74.00, total step: 17819.00, last_episode length: 499.00, last_episode_reward: 498.00, loss: -0.6980, lr: 0.0186\n",
      "episode: 75.00, total step: 18106.00, last_episode length: 287.00, last_episode_reward: 286.00, loss: -0.8037, lr: 0.0186\n",
      "episode: 76.00, total step: 18433.00, last_episode length: 327.00, last_episode_reward: 326.00, loss: -0.7545, lr: 0.0185\n",
      "episode: 77.00, total step: 18750.00, last_episode length: 317.00, last_episode_reward: 316.00, loss: -0.8921, lr: 0.0185\n",
      "episode: 78.00, total step: 19249.00, last_episode length: 499.00, last_episode_reward: 498.00, loss: -0.7865, lr: 0.0185\n",
      "episode: 79.00, total step: 19748.00, last_episode length: 499.00, last_episode_reward: 498.00, loss: -0.7470, lr: 0.0185\n",
      "episode: 80.00, total step: 20247.00, last_episode length: 499.00, last_episode_reward: 498.00, loss: -0.7338, lr: 0.0185\n",
      "episode: 81.00, total step: 20746.00, last_episode length: 499.00, last_episode_reward: 498.00, loss: -0.6884, lr: 0.0184\n"
     ]
    },
    {
     "name": "stderr",
     "output_type": "stream",
     "text": [
      "C:\\Users\\chery\\AppData\\Local\\Packages\\PythonSoftwareFoundation.Python.3.8_qbz5n2kfra8p0\\LocalCache\\local-packages\\Python38\\site-packages\\torch\\optim\\lr_scheduler.py:384: UserWarning: To get the last learning rate computed by the scheduler, please use `get_last_lr()`.\n",
      "  warnings.warn(\"To get the last learning rate computed by the scheduler, \"\n"
     ]
    },
    {
     "name": "stdout",
     "output_type": "stream",
     "text": [
      "episode: 82.00, total step: 21245.00, last_episode length: 499.00, last_episode_reward: 498.00, loss: -0.6646, lr: 0.0184\n",
      "episode: 83.00, total step: 21744.00, last_episode length: 499.00, last_episode_reward: 498.00, loss: -0.6488, lr: 0.0184\n",
      "episode: 84.00, total step: 22179.00, last_episode length: 435.00, last_episode_reward: 434.00, loss: -0.6388, lr: 0.0184\n",
      "episode: 85.00, total step: 22678.00, last_episode length: 499.00, last_episode_reward: 498.00, loss: -0.7787, lr: 0.0184\n",
      "episode: 86.00, total step: 23171.00, last_episode length: 493.00, last_episode_reward: 492.00, loss: -0.6244, lr: 0.0184\n",
      "episode: 87.00, total step: 23670.00, last_episode length: 499.00, last_episode_reward: 498.00, loss: -0.7220, lr: 0.0183\n",
      "episode: 88.00, total step: 24169.00, last_episode length: 499.00, last_episode_reward: 498.00, loss: -0.6553, lr: 0.0183\n",
      "episode: 89.00, total step: 24668.00, last_episode length: 499.00, last_episode_reward: 498.00, loss: -0.5650, lr: 0.0183\n",
      "episode: 90.00, total step: 25167.00, last_episode length: 499.00, last_episode_reward: 498.00, loss: -0.8237, lr: 0.0183\n",
      "episode: 91.00, total step: 25666.00, last_episode length: 499.00, last_episode_reward: 498.00, loss: -0.9617, lr: 0.0183\n"
     ]
    },
    {
     "name": "stderr",
     "output_type": "stream",
     "text": [
      "C:\\Users\\chery\\AppData\\Local\\Packages\\PythonSoftwareFoundation.Python.3.8_qbz5n2kfra8p0\\LocalCache\\local-packages\\Python38\\site-packages\\torch\\optim\\lr_scheduler.py:384: UserWarning: To get the last learning rate computed by the scheduler, please use `get_last_lr()`.\n",
      "  warnings.warn(\"To get the last learning rate computed by the scheduler, \"\n"
     ]
    },
    {
     "name": "stdout",
     "output_type": "stream",
     "text": [
      "episode: 92.00, total step: 26165.00, last_episode length: 499.00, last_episode_reward: 498.00, loss: -0.5636, lr: 0.0182\n",
      "episode: 93.00, total step: 26664.00, last_episode length: 499.00, last_episode_reward: 498.00, loss: -0.5368, lr: 0.0182\n",
      "episode: 94.00, total step: 27163.00, last_episode length: 499.00, last_episode_reward: 498.00, loss: -0.5365, lr: 0.0182\n",
      "episode: 95.00, total step: 27662.00, last_episode length: 499.00, last_episode_reward: 498.00, loss: -0.5788, lr: 0.0182\n",
      "episode: 96.00, total step: 28161.00, last_episode length: 499.00, last_episode_reward: 498.00, loss: -0.5430, lr: 0.0182\n",
      "episode: 97.00, total step: 28660.00, last_episode length: 499.00, last_episode_reward: 498.00, loss: -0.5460, lr: 0.0182\n",
      "episode: 98.00, total step: 29084.00, last_episode length: 424.00, last_episode_reward: 423.00, loss: -0.5108, lr: 0.0181\n",
      "episode: 99.00, total step: 29583.00, last_episode length: 499.00, last_episode_reward: 498.00, loss: -0.7310, lr: 0.0181\n",
      "episode: 100.00, total step: 30082.00, last_episode length: 499.00, last_episode_reward: 498.00, loss: -0.7028, lr: 0.0181\n",
      "episode: 101.00, total step: 30581.00, last_episode length: 499.00, last_episode_reward: 498.00, loss: -0.5268, lr: 0.0181\n"
     ]
    },
    {
     "name": "stderr",
     "output_type": "stream",
     "text": [
      "C:\\Users\\chery\\AppData\\Local\\Packages\\PythonSoftwareFoundation.Python.3.8_qbz5n2kfra8p0\\LocalCache\\local-packages\\Python38\\site-packages\\torch\\optim\\lr_scheduler.py:384: UserWarning: To get the last learning rate computed by the scheduler, please use `get_last_lr()`.\n",
      "  warnings.warn(\"To get the last learning rate computed by the scheduler, \"\n"
     ]
    },
    {
     "name": "stdout",
     "output_type": "stream",
     "text": [
      "episode: 102.00, total step: 31080.00, last_episode length: 499.00, last_episode_reward: 498.00, loss: -0.6700, lr: 0.0181\n",
      "episode: 103.00, total step: 31483.00, last_episode length: 403.00, last_episode_reward: 402.00, loss: -0.4881, lr: 0.0180\n",
      "episode: 104.00, total step: 31982.00, last_episode length: 499.00, last_episode_reward: 498.00, loss: -0.6718, lr: 0.0180\n",
      "episode: 105.00, total step: 32481.00, last_episode length: 499.00, last_episode_reward: 498.00, loss: -0.6297, lr: 0.0180\n",
      "episode: 106.00, total step: 32980.00, last_episode length: 499.00, last_episode_reward: 498.00, loss: -0.6228, lr: 0.0180\n",
      "episode: 107.00, total step: 33363.00, last_episode length: 383.00, last_episode_reward: 382.00, loss: -0.4694, lr: 0.0180\n",
      "episode: 108.00, total step: 33862.00, last_episode length: 499.00, last_episode_reward: 498.00, loss: -0.4690, lr: 0.0180\n",
      "episode: 109.00, total step: 34361.00, last_episode length: 499.00, last_episode_reward: 498.00, loss: -0.4668, lr: 0.0179\n",
      "episode: 110.00, total step: 34860.00, last_episode length: 499.00, last_episode_reward: 498.00, loss: -0.3744, lr: 0.0179\n",
      "episode: 111.00, total step: 35346.00, last_episode length: 486.00, last_episode_reward: 485.00, loss: -0.4076, lr: 0.0179\n"
     ]
    },
    {
     "name": "stderr",
     "output_type": "stream",
     "text": [
      "C:\\Users\\chery\\AppData\\Local\\Packages\\PythonSoftwareFoundation.Python.3.8_qbz5n2kfra8p0\\LocalCache\\local-packages\\Python38\\site-packages\\torch\\optim\\lr_scheduler.py:384: UserWarning: To get the last learning rate computed by the scheduler, please use `get_last_lr()`.\n",
      "  warnings.warn(\"To get the last learning rate computed by the scheduler, \"\n"
     ]
    },
    {
     "name": "stdout",
     "output_type": "stream",
     "text": [
      "episode: 112.00, total step: 35845.00, last_episode length: 499.00, last_episode_reward: 498.00, loss: -0.6027, lr: 0.0179\n",
      "episode: 113.00, total step: 36344.00, last_episode length: 499.00, last_episode_reward: 498.00, loss: -0.4317, lr: 0.0179\n",
      "episode: 114.00, total step: 36843.00, last_episode length: 499.00, last_episode_reward: 498.00, loss: -0.4017, lr: 0.0178\n",
      "episode: 115.00, total step: 37342.00, last_episode length: 499.00, last_episode_reward: 498.00, loss: -0.4161, lr: 0.0178\n",
      "episode: 116.00, total step: 37841.00, last_episode length: 499.00, last_episode_reward: 498.00, loss: -0.4362, lr: 0.0178\n",
      "episode: 117.00, total step: 38340.00, last_episode length: 499.00, last_episode_reward: 498.00, loss: -0.4343, lr: 0.0178\n",
      "episode: 118.00, total step: 38670.00, last_episode length: 330.00, last_episode_reward: 329.00, loss: -0.4213, lr: 0.0178\n",
      "episode: 119.00, total step: 39169.00, last_episode length: 499.00, last_episode_reward: 498.00, loss: -0.3343, lr: 0.0178\n",
      "episode: 120.00, total step: 39668.00, last_episode length: 499.00, last_episode_reward: 498.00, loss: -0.4225, lr: 0.0177\n",
      "episode: 121.00, total step: 40044.00, last_episode length: 376.00, last_episode_reward: 375.00, loss: -0.4213, lr: 0.0177\n"
     ]
    },
    {
     "name": "stderr",
     "output_type": "stream",
     "text": [
      "C:\\Users\\chery\\AppData\\Local\\Packages\\PythonSoftwareFoundation.Python.3.8_qbz5n2kfra8p0\\LocalCache\\local-packages\\Python38\\site-packages\\torch\\optim\\lr_scheduler.py:384: UserWarning: To get the last learning rate computed by the scheduler, please use `get_last_lr()`.\n",
      "  warnings.warn(\"To get the last learning rate computed by the scheduler, \"\n"
     ]
    },
    {
     "name": "stdout",
     "output_type": "stream",
     "text": [
      "episode: 122.00, total step: 40543.00, last_episode length: 499.00, last_episode_reward: 498.00, loss: -0.2824, lr: 0.0177\n",
      "episode: 123.00, total step: 41042.00, last_episode length: 499.00, last_episode_reward: 498.00, loss: -0.3523, lr: 0.0177\n",
      "episode: 124.00, total step: 41541.00, last_episode length: 499.00, last_episode_reward: 498.00, loss: -0.3152, lr: 0.0177\n",
      "episode: 125.00, total step: 42040.00, last_episode length: 499.00, last_episode_reward: 498.00, loss: -0.2818, lr: 0.0176\n",
      "episode: 126.00, total step: 42539.00, last_episode length: 499.00, last_episode_reward: 498.00, loss: -0.3353, lr: 0.0176\n",
      "episode: 127.00, total step: 43038.00, last_episode length: 499.00, last_episode_reward: 498.00, loss: -0.3119, lr: 0.0176\n",
      "episode: 128.00, total step: 43537.00, last_episode length: 499.00, last_episode_reward: 498.00, loss: -0.2560, lr: 0.0176\n",
      "episode: 129.00, total step: 44036.00, last_episode length: 499.00, last_episode_reward: 498.00, loss: -0.4076, lr: 0.0176\n",
      "episode: 130.00, total step: 44480.00, last_episode length: 444.00, last_episode_reward: 443.00, loss: -0.4660, lr: 0.0176\n",
      "episode: 131.00, total step: 44979.00, last_episode length: 499.00, last_episode_reward: 498.00, loss: -0.5169, lr: 0.0175\n"
     ]
    },
    {
     "name": "stderr",
     "output_type": "stream",
     "text": [
      "C:\\Users\\chery\\AppData\\Local\\Packages\\PythonSoftwareFoundation.Python.3.8_qbz5n2kfra8p0\\LocalCache\\local-packages\\Python38\\site-packages\\torch\\optim\\lr_scheduler.py:384: UserWarning: To get the last learning rate computed by the scheduler, please use `get_last_lr()`.\n",
      "  warnings.warn(\"To get the last learning rate computed by the scheduler, \"\n"
     ]
    },
    {
     "name": "stdout",
     "output_type": "stream",
     "text": [
      "episode: 132.00, total step: 45478.00, last_episode length: 499.00, last_episode_reward: 498.00, loss: -0.5374, lr: 0.0175\n",
      "episode: 133.00, total step: 45939.00, last_episode length: 461.00, last_episode_reward: 460.00, loss: -0.5359, lr: 0.0175\n",
      "episode: 134.00, total step: 46438.00, last_episode length: 499.00, last_episode_reward: 498.00, loss: -0.6411, lr: 0.0175\n",
      "episode: 135.00, total step: 46937.00, last_episode length: 499.00, last_episode_reward: 498.00, loss: -0.2415, lr: 0.0175\n",
      "episode: 136.00, total step: 47436.00, last_episode length: 499.00, last_episode_reward: 498.00, loss: -0.6266, lr: 0.0175\n",
      "episode: 137.00, total step: 47935.00, last_episode length: 499.00, last_episode_reward: 498.00, loss: -0.0265, lr: 0.0174\n",
      "episode: 138.00, total step: 48434.00, last_episode length: 499.00, last_episode_reward: 498.00, loss: -0.2691, lr: 0.0174\n",
      "episode: 139.00, total step: 48933.00, last_episode length: 499.00, last_episode_reward: 498.00, loss: -0.3052, lr: 0.0174\n",
      "episode: 140.00, total step: 49329.00, last_episode length: 396.00, last_episode_reward: 395.00, loss: -0.1161, lr: 0.0174\n",
      "episode: 141.00, total step: 49671.00, last_episode length: 342.00, last_episode_reward: 341.00, loss: 0.1071, lr: 0.0174\n"
     ]
    },
    {
     "name": "stderr",
     "output_type": "stream",
     "text": [
      "C:\\Users\\chery\\AppData\\Local\\Packages\\PythonSoftwareFoundation.Python.3.8_qbz5n2kfra8p0\\LocalCache\\local-packages\\Python38\\site-packages\\torch\\optim\\lr_scheduler.py:384: UserWarning: To get the last learning rate computed by the scheduler, please use `get_last_lr()`.\n",
      "  warnings.warn(\"To get the last learning rate computed by the scheduler, \"\n"
     ]
    },
    {
     "name": "stdout",
     "output_type": "stream",
     "text": [
      "episode: 142.00, total step: 50170.00, last_episode length: 499.00, last_episode_reward: 498.00, loss: -0.3367, lr: 0.0174\n",
      "episode: 143.00, total step: 50669.00, last_episode length: 499.00, last_episode_reward: 498.00, loss: -0.2750, lr: 0.0173\n",
      "episode: 144.00, total step: 50977.00, last_episode length: 308.00, last_episode_reward: 307.00, loss: -0.1979, lr: 0.0173\n",
      "episode: 145.00, total step: 51338.00, last_episode length: 361.00, last_episode_reward: 360.00, loss: -0.1468, lr: 0.0173\n",
      "episode: 146.00, total step: 51616.00, last_episode length: 278.00, last_episode_reward: 277.00, loss: -0.2665, lr: 0.0173\n",
      "episode: 147.00, total step: 52115.00, last_episode length: 499.00, last_episode_reward: 498.00, loss: -0.2566, lr: 0.0173\n",
      "episode: 148.00, total step: 52614.00, last_episode length: 499.00, last_episode_reward: 498.00, loss: -0.1691, lr: 0.0172\n",
      "episode: 149.00, total step: 53025.00, last_episode length: 411.00, last_episode_reward: 410.00, loss: -0.1732, lr: 0.0172\n",
      "episode: 150.00, total step: 53444.00, last_episode length: 419.00, last_episode_reward: 418.00, loss: -0.2071, lr: 0.0172\n"
     ]
    },
    {
     "name": "stderr",
     "output_type": "stream",
     "text": [
      "C:\\Users\\chery\\AppData\\Local\\Packages\\PythonSoftwareFoundation.Python.3.8_qbz5n2kfra8p0\\LocalCache\\local-packages\\Python38\\site-packages\\torch\\optim\\lr_scheduler.py:384: UserWarning: To get the last learning rate computed by the scheduler, please use `get_last_lr()`.\n",
      "  warnings.warn(\"To get the last learning rate computed by the scheduler, \"\n"
     ]
    },
    {
     "name": "stdout",
     "output_type": "stream",
     "text": [
      "episode: 151.00, total step: 53792.00, last_episode length: 348.00, last_episode_reward: 347.00, loss: -0.3968, lr: 0.0172\n",
      "episode: 152.00, total step: 54291.00, last_episode length: 499.00, last_episode_reward: 498.00, loss: -0.1046, lr: 0.0172\n",
      "episode: 153.00, total step: 54637.00, last_episode length: 346.00, last_episode_reward: 345.00, loss: -0.0998, lr: 0.0172\n",
      "episode: 154.00, total step: 55136.00, last_episode length: 499.00, last_episode_reward: 498.00, loss: -0.0116, lr: 0.0171\n",
      "episode: 155.00, total step: 55635.00, last_episode length: 499.00, last_episode_reward: 498.00, loss: -0.1896, lr: 0.0171\n",
      "episode: 156.00, total step: 55968.00, last_episode length: 333.00, last_episode_reward: 332.00, loss: -0.1780, lr: 0.0171\n",
      "episode: 157.00, total step: 56467.00, last_episode length: 499.00, last_episode_reward: 498.00, loss: -0.0093, lr: 0.0171\n",
      "episode: 158.00, total step: 56966.00, last_episode length: 499.00, last_episode_reward: 498.00, loss: -0.1057, lr: 0.0171\n",
      "episode: 159.00, total step: 57359.00, last_episode length: 393.00, last_episode_reward: 392.00, loss: -0.1469, lr: 0.0171\n",
      "episode: 160.00, total step: 57858.00, last_episode length: 499.00, last_episode_reward: 498.00, loss: -0.1440, lr: 0.0170\n"
     ]
    },
    {
     "name": "stderr",
     "output_type": "stream",
     "text": [
      "C:\\Users\\chery\\AppData\\Local\\Packages\\PythonSoftwareFoundation.Python.3.8_qbz5n2kfra8p0\\LocalCache\\local-packages\\Python38\\site-packages\\torch\\optim\\lr_scheduler.py:384: UserWarning: To get the last learning rate computed by the scheduler, please use `get_last_lr()`.\n",
      "  warnings.warn(\"To get the last learning rate computed by the scheduler, \"\n"
     ]
    },
    {
     "name": "stdout",
     "output_type": "stream",
     "text": [
      "episode: 161.00, total step: 58228.00, last_episode length: 370.00, last_episode_reward: 369.00, loss: -0.1609, lr: 0.0170\n",
      "episode: 162.00, total step: 58727.00, last_episode length: 499.00, last_episode_reward: 498.00, loss: 0.0782, lr: 0.0170\n",
      "episode: 163.00, total step: 59182.00, last_episode length: 455.00, last_episode_reward: 454.00, loss: -0.1864, lr: 0.0170\n",
      "episode: 164.00, total step: 59681.00, last_episode length: 499.00, last_episode_reward: 498.00, loss: -0.5172, lr: 0.0170\n",
      "episode: 165.00, total step: 60090.00, last_episode length: 409.00, last_episode_reward: 408.00, loss: -0.0664, lr: 0.0170\n",
      "episode: 166.00, total step: 60589.00, last_episode length: 499.00, last_episode_reward: 498.00, loss: -0.1802, lr: 0.0169\n",
      "episode: 167.00, total step: 61062.00, last_episode length: 473.00, last_episode_reward: 472.00, loss: -0.3860, lr: 0.0169\n",
      "episode: 168.00, total step: 61561.00, last_episode length: 499.00, last_episode_reward: 498.00, loss: -0.2320, lr: 0.0169\n",
      "episode: 169.00, total step: 62060.00, last_episode length: 499.00, last_episode_reward: 498.00, loss: -0.1857, lr: 0.0169\n",
      "episode: 170.00, total step: 62559.00, last_episode length: 499.00, last_episode_reward: 498.00, loss: -0.1290, lr: 0.0169\n"
     ]
    },
    {
     "name": "stderr",
     "output_type": "stream",
     "text": [
      "C:\\Users\\chery\\AppData\\Local\\Packages\\PythonSoftwareFoundation.Python.3.8_qbz5n2kfra8p0\\LocalCache\\local-packages\\Python38\\site-packages\\torch\\optim\\lr_scheduler.py:384: UserWarning: To get the last learning rate computed by the scheduler, please use `get_last_lr()`.\n",
      "  warnings.warn(\"To get the last learning rate computed by the scheduler, \"\n"
     ]
    },
    {
     "name": "stdout",
     "output_type": "stream",
     "text": [
      "episode: 171.00, total step: 63058.00, last_episode length: 499.00, last_episode_reward: 498.00, loss: -0.1247, lr: 0.0169\n",
      "episode: 172.00, total step: 63424.00, last_episode length: 366.00, last_episode_reward: 365.00, loss: -0.5182, lr: 0.0168\n",
      "episode: 173.00, total step: 63634.00, last_episode length: 210.00, last_episode_reward: 209.00, loss: -0.0652, lr: 0.0168\n",
      "episode: 174.00, total step: 64133.00, last_episode length: 499.00, last_episode_reward: 498.00, loss: -0.1433, lr: 0.0168\n",
      "episode: 175.00, total step: 64632.00, last_episode length: 499.00, last_episode_reward: 498.00, loss: 0.1631, lr: 0.0168\n",
      "episode: 176.00, total step: 65131.00, last_episode length: 499.00, last_episode_reward: 498.00, loss: -0.2595, lr: 0.0168\n",
      "episode: 177.00, total step: 65630.00, last_episode length: 499.00, last_episode_reward: 498.00, loss: -0.1812, lr: 0.0168\n",
      "episode: 178.00, total step: 65781.00, last_episode length: 151.00, last_episode_reward: 150.00, loss: -0.2037, lr: 0.0167\n",
      "episode: 179.00, total step: 66280.00, last_episode length: 499.00, last_episode_reward: 498.00, loss: 0.0441, lr: 0.0167\n",
      "episode: 180.00, total step: 66779.00, last_episode length: 499.00, last_episode_reward: 498.00, loss: -0.2023, lr: 0.0167\n"
     ]
    },
    {
     "name": "stderr",
     "output_type": "stream",
     "text": [
      "C:\\Users\\chery\\AppData\\Local\\Packages\\PythonSoftwareFoundation.Python.3.8_qbz5n2kfra8p0\\LocalCache\\local-packages\\Python38\\site-packages\\torch\\optim\\lr_scheduler.py:384: UserWarning: To get the last learning rate computed by the scheduler, please use `get_last_lr()`.\n",
      "  warnings.warn(\"To get the last learning rate computed by the scheduler, \"\n"
     ]
    },
    {
     "name": "stdout",
     "output_type": "stream",
     "text": [
      "episode: 181.00, total step: 66904.00, last_episode length: 125.00, last_episode_reward: 124.00, loss: 0.0473, lr: 0.0167\n",
      "episode: 182.00, total step: 67019.00, last_episode length: 115.00, last_episode_reward: 114.00, loss: 0.2490, lr: 0.0167\n",
      "episode: 183.00, total step: 67518.00, last_episode length: 499.00, last_episode_reward: 498.00, loss: 0.4401, lr: 0.0167\n",
      "episode: 184.00, total step: 67630.00, last_episode length: 112.00, last_episode_reward: 111.00, loss: -0.1056, lr: 0.0166\n",
      "episode: 185.00, total step: 67824.00, last_episode length: 194.00, last_episode_reward: 193.00, loss: 0.1352, lr: 0.0166\n",
      "episode: 186.00, total step: 68323.00, last_episode length: 499.00, last_episode_reward: 498.00, loss: 0.2779, lr: 0.0166\n",
      "episode: 187.00, total step: 68463.00, last_episode length: 140.00, last_episode_reward: 139.00, loss: -0.1410, lr: 0.0166\n",
      "episode: 188.00, total step: 68962.00, last_episode length: 499.00, last_episode_reward: 498.00, loss: 0.1202, lr: 0.0166\n",
      "episode: 189.00, total step: 69461.00, last_episode length: 499.00, last_episode_reward: 498.00, loss: -0.2639, lr: 0.0166\n",
      "episode: 190.00, total step: 69960.00, last_episode length: 499.00, last_episode_reward: 498.00, loss: -0.1166, lr: 0.0165\n",
      "episode: 191.00, total step: 70388.00, last_episode length: 428.00, last_episode_reward: 427.00, loss: -0.2058, lr: 0.0165\n"
     ]
    },
    {
     "name": "stderr",
     "output_type": "stream",
     "text": [
      "C:\\Users\\chery\\AppData\\Local\\Packages\\PythonSoftwareFoundation.Python.3.8_qbz5n2kfra8p0\\LocalCache\\local-packages\\Python38\\site-packages\\torch\\optim\\lr_scheduler.py:384: UserWarning: To get the last learning rate computed by the scheduler, please use `get_last_lr()`.\n",
      "  warnings.warn(\"To get the last learning rate computed by the scheduler, \"\n"
     ]
    },
    {
     "name": "stdout",
     "output_type": "stream",
     "text": [
      "episode: 192.00, total step: 70884.00, last_episode length: 496.00, last_episode_reward: 495.00, loss: -0.2344, lr: 0.0165\n",
      "episode: 193.00, total step: 71383.00, last_episode length: 499.00, last_episode_reward: 498.00, loss: -0.2552, lr: 0.0165\n",
      "episode: 194.00, total step: 71882.00, last_episode length: 499.00, last_episode_reward: 498.00, loss: -0.1794, lr: 0.0165\n",
      "episode: 195.00, total step: 72381.00, last_episode length: 499.00, last_episode_reward: 498.00, loss: -0.1402, lr: 0.0165\n",
      "episode: 196.00, total step: 72880.00, last_episode length: 499.00, last_episode_reward: 498.00, loss: -0.0757, lr: 0.0164\n",
      "episode: 197.00, total step: 73350.00, last_episode length: 470.00, last_episode_reward: 469.00, loss: -0.1173, lr: 0.0164\n",
      "episode: 198.00, total step: 73849.00, last_episode length: 499.00, last_episode_reward: 498.00, loss: -0.4039, lr: 0.0164\n",
      "episode: 199.00, total step: 74348.00, last_episode length: 499.00, last_episode_reward: 498.00, loss: -0.0654, lr: 0.0164\n",
      "episode: 200.00, total step: 74792.00, last_episode length: 444.00, last_episode_reward: 443.00, loss: 0.0438, lr: 0.0164\n"
     ]
    },
    {
     "name": "stderr",
     "output_type": "stream",
     "text": [
      "C:\\Users\\chery\\AppData\\Local\\Packages\\PythonSoftwareFoundation.Python.3.8_qbz5n2kfra8p0\\LocalCache\\local-packages\\Python38\\site-packages\\torch\\optim\\lr_scheduler.py:384: UserWarning: To get the last learning rate computed by the scheduler, please use `get_last_lr()`.\n",
      "  warnings.warn(\"To get the last learning rate computed by the scheduler, \"\n"
     ]
    },
    {
     "name": "stdout",
     "output_type": "stream",
     "text": [
      "episode: 201.00, total step: 75291.00, last_episode length: 499.00, last_episode_reward: 498.00, loss: -0.4277, lr: 0.0164\n",
      "episode: 202.00, total step: 75790.00, last_episode length: 499.00, last_episode_reward: 498.00, loss: -0.1352, lr: 0.0163\n",
      "episode: 203.00, total step: 76275.00, last_episode length: 485.00, last_episode_reward: 484.00, loss: -0.0373, lr: 0.0163\n",
      "episode: 204.00, total step: 76774.00, last_episode length: 499.00, last_episode_reward: 498.00, loss: -0.2811, lr: 0.0163\n",
      "episode: 205.00, total step: 76896.00, last_episode length: 122.00, last_episode_reward: 121.00, loss: 0.0207, lr: 0.0163\n",
      "episode: 206.00, total step: 77354.00, last_episode length: 458.00, last_episode_reward: 457.00, loss: 0.1764, lr: 0.0163\n",
      "episode: 207.00, total step: 77853.00, last_episode length: 499.00, last_episode_reward: 498.00, loss: -0.1551, lr: 0.0163\n",
      "episode: 208.00, total step: 78331.00, last_episode length: 478.00, last_episode_reward: 477.00, loss: -0.0202, lr: 0.0162\n",
      "episode: 209.00, total step: 78830.00, last_episode length: 499.00, last_episode_reward: 498.00, loss: -0.1447, lr: 0.0162\n",
      "episode: 210.00, total step: 79329.00, last_episode length: 499.00, last_episode_reward: 498.00, loss: 0.0035, lr: 0.0162\n"
     ]
    },
    {
     "name": "stderr",
     "output_type": "stream",
     "text": [
      "C:\\Users\\chery\\AppData\\Local\\Packages\\PythonSoftwareFoundation.Python.3.8_qbz5n2kfra8p0\\LocalCache\\local-packages\\Python38\\site-packages\\torch\\optim\\lr_scheduler.py:384: UserWarning: To get the last learning rate computed by the scheduler, please use `get_last_lr()`.\n",
      "  warnings.warn(\"To get the last learning rate computed by the scheduler, \"\n"
     ]
    },
    {
     "name": "stdout",
     "output_type": "stream",
     "text": [
      "episode: 211.00, total step: 79652.00, last_episode length: 323.00, last_episode_reward: 322.00, loss: 0.0017, lr: 0.0162\n",
      "episode: 212.00, total step: 80151.00, last_episode length: 499.00, last_episode_reward: 498.00, loss: 0.0381, lr: 0.0162\n",
      "episode: 213.00, total step: 80239.00, last_episode length: 88.00, last_episode_reward: 87.00, loss: 0.0295, lr: 0.0162\n",
      "episode: 214.00, total step: 80738.00, last_episode length: 499.00, last_episode_reward: 498.00, loss: 0.2560, lr: 0.0161\n",
      "episode: 215.00, total step: 81132.00, last_episode length: 394.00, last_episode_reward: 393.00, loss: 0.0205, lr: 0.0161\n",
      "episode: 216.00, total step: 81481.00, last_episode length: 349.00, last_episode_reward: 348.00, loss: -0.0183, lr: 0.0161\n",
      "episode: 217.00, total step: 81854.00, last_episode length: 373.00, last_episode_reward: 372.00, loss: -0.0582, lr: 0.0161\n",
      "episode: 218.00, total step: 82255.00, last_episode length: 401.00, last_episode_reward: 400.00, loss: -0.3230, lr: 0.0161\n",
      "episode: 219.00, total step: 82648.00, last_episode length: 393.00, last_episode_reward: 392.00, loss: -0.0205, lr: 0.0161\n",
      "episode: 220.00, total step: 82959.00, last_episode length: 311.00, last_episode_reward: 310.00, loss: -0.1746, lr: 0.0160\n"
     ]
    },
    {
     "name": "stderr",
     "output_type": "stream",
     "text": [
      "C:\\Users\\chery\\AppData\\Local\\Packages\\PythonSoftwareFoundation.Python.3.8_qbz5n2kfra8p0\\LocalCache\\local-packages\\Python38\\site-packages\\torch\\optim\\lr_scheduler.py:384: UserWarning: To get the last learning rate computed by the scheduler, please use `get_last_lr()`.\n",
      "  warnings.warn(\"To get the last learning rate computed by the scheduler, \"\n"
     ]
    },
    {
     "name": "stdout",
     "output_type": "stream",
     "text": [
      "episode: 221.00, total step: 83458.00, last_episode length: 499.00, last_episode_reward: 498.00, loss: -0.0291, lr: 0.0160\n",
      "episode: 222.00, total step: 83928.00, last_episode length: 470.00, last_episode_reward: 469.00, loss: 0.0787, lr: 0.0160\n",
      "episode: 223.00, total step: 84080.00, last_episode length: 152.00, last_episode_reward: 151.00, loss: -0.2195, lr: 0.0160\n",
      "episode: 224.00, total step: 84214.00, last_episode length: 134.00, last_episode_reward: 133.00, loss: -0.1290, lr: 0.0160\n",
      "episode: 225.00, total step: 84713.00, last_episode length: 499.00, last_episode_reward: 498.00, loss: -0.0436, lr: 0.0160\n",
      "episode: 226.00, total step: 85212.00, last_episode length: 499.00, last_episode_reward: 498.00, loss: -0.0769, lr: 0.0160\n",
      "episode: 227.00, total step: 85711.00, last_episode length: 499.00, last_episode_reward: 498.00, loss: 0.0607, lr: 0.0159\n",
      "episode: 228.00, total step: 85988.00, last_episode length: 277.00, last_episode_reward: 276.00, loss: 0.0418, lr: 0.0159\n",
      "episode: 229.00, total step: 86487.00, last_episode length: 499.00, last_episode_reward: 498.00, loss: -0.0238, lr: 0.0159\n",
      "episode: 230.00, total step: 86779.00, last_episode length: 292.00, last_episode_reward: 291.00, loss: -0.0160, lr: 0.0159\n",
      "episode: 231.00, total step: 87278.00, last_episode length: 499.00, last_episode_reward: 498.00, loss: 0.0747, lr: 0.0159\n"
     ]
    },
    {
     "name": "stderr",
     "output_type": "stream",
     "text": [
      "C:\\Users\\chery\\AppData\\Local\\Packages\\PythonSoftwareFoundation.Python.3.8_qbz5n2kfra8p0\\LocalCache\\local-packages\\Python38\\site-packages\\torch\\optim\\lr_scheduler.py:384: UserWarning: To get the last learning rate computed by the scheduler, please use `get_last_lr()`.\n",
      "  warnings.warn(\"To get the last learning rate computed by the scheduler, \"\n"
     ]
    },
    {
     "name": "stdout",
     "output_type": "stream",
     "text": [
      "episode: 232.00, total step: 87736.00, last_episode length: 458.00, last_episode_reward: 457.00, loss: -0.0272, lr: 0.0159\n",
      "episode: 233.00, total step: 88103.00, last_episode length: 367.00, last_episode_reward: 366.00, loss: -0.2229, lr: 0.0158\n",
      "episode: 234.00, total step: 88416.00, last_episode length: 313.00, last_episode_reward: 312.00, loss: -0.3610, lr: 0.0158\n",
      "episode: 235.00, total step: 88904.00, last_episode length: 488.00, last_episode_reward: 487.00, loss: -0.3596, lr: 0.0158\n",
      "episode: 236.00, total step: 89072.00, last_episode length: 168.00, last_episode_reward: 167.00, loss: -0.4488, lr: 0.0158\n",
      "episode: 237.00, total step: 89480.00, last_episode length: 408.00, last_episode_reward: 407.00, loss: -0.3297, lr: 0.0158\n",
      "episode: 238.00, total step: 89979.00, last_episode length: 499.00, last_episode_reward: 498.00, loss: -0.2325, lr: 0.0158\n",
      "episode: 239.00, total step: 90478.00, last_episode length: 499.00, last_episode_reward: 498.00, loss: 0.0398, lr: 0.0157\n",
      "episode: 240.00, total step: 90892.00, last_episode length: 414.00, last_episode_reward: 413.00, loss: -0.0039, lr: 0.0157\n",
      "episode: 241.00, total step: 91391.00, last_episode length: 499.00, last_episode_reward: 498.00, loss: -0.4361, lr: 0.0157\n"
     ]
    },
    {
     "name": "stderr",
     "output_type": "stream",
     "text": [
      "C:\\Users\\chery\\AppData\\Local\\Packages\\PythonSoftwareFoundation.Python.3.8_qbz5n2kfra8p0\\LocalCache\\local-packages\\Python38\\site-packages\\torch\\optim\\lr_scheduler.py:384: UserWarning: To get the last learning rate computed by the scheduler, please use `get_last_lr()`.\n",
      "  warnings.warn(\"To get the last learning rate computed by the scheduler, \"\n"
     ]
    },
    {
     "name": "stdout",
     "output_type": "stream",
     "text": [
      "episode: 242.00, total step: 91890.00, last_episode length: 499.00, last_episode_reward: 498.00, loss: 0.0077, lr: 0.0157\n",
      "episode: 243.00, total step: 92267.00, last_episode length: 377.00, last_episode_reward: 376.00, loss: -0.0806, lr: 0.0157\n",
      "episode: 244.00, total step: 92766.00, last_episode length: 499.00, last_episode_reward: 498.00, loss: -0.1726, lr: 0.0157\n",
      "episode: 245.00, total step: 93265.00, last_episode length: 499.00, last_episode_reward: 498.00, loss: 0.1379, lr: 0.0157\n",
      "episode: 246.00, total step: 93764.00, last_episode length: 499.00, last_episode_reward: 498.00, loss: 0.0471, lr: 0.0156\n",
      "episode: 247.00, total step: 94263.00, last_episode length: 499.00, last_episode_reward: 498.00, loss: 0.0087, lr: 0.0156\n",
      "episode: 248.00, total step: 94415.00, last_episode length: 152.00, last_episode_reward: 151.00, loss: 0.0422, lr: 0.0156\n",
      "episode: 249.00, total step: 94839.00, last_episode length: 424.00, last_episode_reward: 423.00, loss: 0.1229, lr: 0.0156\n",
      "episode: 250.00, total step: 95107.00, last_episode length: 268.00, last_episode_reward: 267.00, loss: -0.4115, lr: 0.0156\n"
     ]
    },
    {
     "name": "stderr",
     "output_type": "stream",
     "text": [
      "C:\\Users\\chery\\AppData\\Local\\Packages\\PythonSoftwareFoundation.Python.3.8_qbz5n2kfra8p0\\LocalCache\\local-packages\\Python38\\site-packages\\torch\\optim\\lr_scheduler.py:384: UserWarning: To get the last learning rate computed by the scheduler, please use `get_last_lr()`.\n",
      "  warnings.warn(\"To get the last learning rate computed by the scheduler, \"\n"
     ]
    },
    {
     "name": "stdout",
     "output_type": "stream",
     "text": [
      "episode: 251.00, total step: 95606.00, last_episode length: 499.00, last_episode_reward: 498.00, loss: -0.3481, lr: 0.0156\n",
      "episode: 252.00, total step: 96105.00, last_episode length: 499.00, last_episode_reward: 498.00, loss: 0.0553, lr: 0.0155\n",
      "episode: 253.00, total step: 96264.00, last_episode length: 159.00, last_episode_reward: 158.00, loss: -0.1556, lr: 0.0155\n",
      "episode: 254.00, total step: 96394.00, last_episode length: 130.00, last_episode_reward: 129.00, loss: -0.1125, lr: 0.0155\n",
      "episode: 255.00, total step: 96770.00, last_episode length: 376.00, last_episode_reward: 375.00, loss: 0.0031, lr: 0.0155\n",
      "episode: 256.00, total step: 97269.00, last_episode length: 499.00, last_episode_reward: 498.00, loss: -0.3905, lr: 0.0155\n",
      "episode: 257.00, total step: 97386.00, last_episode length: 117.00, last_episode_reward: 116.00, loss: 0.0618, lr: 0.0155\n",
      "episode: 258.00, total step: 97885.00, last_episode length: 499.00, last_episode_reward: 498.00, loss: 0.1488, lr: 0.0154\n",
      "episode: 259.00, total step: 98234.00, last_episode length: 349.00, last_episode_reward: 348.00, loss: 0.1093, lr: 0.0154\n",
      "episode: 260.00, total step: 98733.00, last_episode length: 499.00, last_episode_reward: 498.00, loss: 0.0149, lr: 0.0154\n"
     ]
    },
    {
     "name": "stderr",
     "output_type": "stream",
     "text": [
      "C:\\Users\\chery\\AppData\\Local\\Packages\\PythonSoftwareFoundation.Python.3.8_qbz5n2kfra8p0\\LocalCache\\local-packages\\Python38\\site-packages\\torch\\optim\\lr_scheduler.py:384: UserWarning: To get the last learning rate computed by the scheduler, please use `get_last_lr()`.\n",
      "  warnings.warn(\"To get the last learning rate computed by the scheduler, \"\n"
     ]
    },
    {
     "name": "stdout",
     "output_type": "stream",
     "text": [
      "episode: 261.00, total step: 99232.00, last_episode length: 499.00, last_episode_reward: 498.00, loss: -0.0661, lr: 0.0154\n",
      "episode: 262.00, total step: 99731.00, last_episode length: 499.00, last_episode_reward: 498.00, loss: 0.0266, lr: 0.0154\n",
      "episode: 263.00, total step: 100095.00, last_episode length: 364.00, last_episode_reward: 363.00, loss: 0.0890, lr: 0.0154\n",
      "episode: 264.00, total step: 100594.00, last_episode length: 499.00, last_episode_reward: 498.00, loss: -0.1085, lr: 0.0154\n",
      "episode: 265.00, total step: 100792.00, last_episode length: 198.00, last_episode_reward: 197.00, loss: 0.0116, lr: 0.0153\n",
      "episode: 266.00, total step: 101291.00, last_episode length: 499.00, last_episode_reward: 498.00, loss: 0.0857, lr: 0.0153\n",
      "episode: 267.00, total step: 101790.00, last_episode length: 499.00, last_episode_reward: 498.00, loss: -0.1509, lr: 0.0153\n",
      "episode: 268.00, total step: 102289.00, last_episode length: 499.00, last_episode_reward: 498.00, loss: 0.2404, lr: 0.0153\n",
      "episode: 269.00, total step: 102518.00, last_episode length: 229.00, last_episode_reward: 228.00, loss: 0.0109, lr: 0.0153\n",
      "episode: 270.00, total step: 102694.00, last_episode length: 176.00, last_episode_reward: 175.00, loss: 0.0209, lr: 0.0153\n"
     ]
    },
    {
     "name": "stderr",
     "output_type": "stream",
     "text": [
      "C:\\Users\\chery\\AppData\\Local\\Packages\\PythonSoftwareFoundation.Python.3.8_qbz5n2kfra8p0\\LocalCache\\local-packages\\Python38\\site-packages\\torch\\optim\\lr_scheduler.py:384: UserWarning: To get the last learning rate computed by the scheduler, please use `get_last_lr()`.\n",
      "  warnings.warn(\"To get the last learning rate computed by the scheduler, \"\n"
     ]
    },
    {
     "name": "stdout",
     "output_type": "stream",
     "text": [
      "episode: 271.00, total step: 102888.00, last_episode length: 194.00, last_episode_reward: 193.00, loss: -0.3574, lr: 0.0153\n",
      "episode: 272.00, total step: 103387.00, last_episode length: 499.00, last_episode_reward: 498.00, loss: -0.3740, lr: 0.0152\n",
      "episode: 273.00, total step: 103886.00, last_episode length: 499.00, last_episode_reward: 498.00, loss: -0.0394, lr: 0.0152\n",
      "episode: 274.00, total step: 104385.00, last_episode length: 499.00, last_episode_reward: 498.00, loss: -0.1882, lr: 0.0152\n",
      "episode: 275.00, total step: 104884.00, last_episode length: 499.00, last_episode_reward: 498.00, loss: 0.0337, lr: 0.0152\n",
      "episode: 276.00, total step: 105383.00, last_episode length: 499.00, last_episode_reward: 498.00, loss: 0.3498, lr: 0.0152\n",
      "episode: 277.00, total step: 105882.00, last_episode length: 499.00, last_episode_reward: 498.00, loss: -0.3233, lr: 0.0152\n",
      "episode: 278.00, total step: 106066.00, last_episode length: 184.00, last_episode_reward: 183.00, loss: -0.1415, lr: 0.0151\n",
      "episode: 279.00, total step: 106565.00, last_episode length: 499.00, last_episode_reward: 498.00, loss: -0.1597, lr: 0.0151\n",
      "episode: 280.00, total step: 107064.00, last_episode length: 499.00, last_episode_reward: 498.00, loss: -0.3984, lr: 0.0151\n",
      "episode: 281.00, total step: 107223.00, last_episode length: 159.00, last_episode_reward: 158.00, loss: 0.0284, lr: 0.0151\n",
      "episode: 282.00, total step: 107413.00, last_episode length: 190.00, last_episode_reward: 189.00, loss: 0.0762, lr: 0.0151\n"
     ]
    },
    {
     "name": "stderr",
     "output_type": "stream",
     "text": [
      "C:\\Users\\chery\\AppData\\Local\\Packages\\PythonSoftwareFoundation.Python.3.8_qbz5n2kfra8p0\\LocalCache\\local-packages\\Python38\\site-packages\\torch\\optim\\lr_scheduler.py:384: UserWarning: To get the last learning rate computed by the scheduler, please use `get_last_lr()`.\n",
      "  warnings.warn(\"To get the last learning rate computed by the scheduler, \"\n"
     ]
    },
    {
     "name": "stdout",
     "output_type": "stream",
     "text": [
      "episode: 283.00, total step: 107912.00, last_episode length: 499.00, last_episode_reward: 498.00, loss: 0.0309, lr: 0.0151\n",
      "episode: 284.00, total step: 108086.00, last_episode length: 174.00, last_episode_reward: 173.00, loss: -0.2278, lr: 0.0151\n",
      "episode: 285.00, total step: 108585.00, last_episode length: 499.00, last_episode_reward: 498.00, loss: -0.2452, lr: 0.0150\n",
      "episode: 286.00, total step: 109084.00, last_episode length: 499.00, last_episode_reward: 498.00, loss: -0.1939, lr: 0.0150\n",
      "episode: 287.00, total step: 109583.00, last_episode length: 499.00, last_episode_reward: 498.00, loss: -0.0830, lr: 0.0150\n",
      "episode: 288.00, total step: 110082.00, last_episode length: 499.00, last_episode_reward: 498.00, loss: -0.1217, lr: 0.0150\n",
      "episode: 289.00, total step: 110581.00, last_episode length: 499.00, last_episode_reward: 498.00, loss: -0.1028, lr: 0.0150\n",
      "episode: 290.00, total step: 111080.00, last_episode length: 499.00, last_episode_reward: 498.00, loss: -0.0885, lr: 0.0150\n",
      "episode: 291.00, total step: 111579.00, last_episode length: 499.00, last_episode_reward: 498.00, loss: -0.0272, lr: 0.0149\n"
     ]
    },
    {
     "name": "stderr",
     "output_type": "stream",
     "text": [
      "C:\\Users\\chery\\AppData\\Local\\Packages\\PythonSoftwareFoundation.Python.3.8_qbz5n2kfra8p0\\LocalCache\\local-packages\\Python38\\site-packages\\torch\\optim\\lr_scheduler.py:384: UserWarning: To get the last learning rate computed by the scheduler, please use `get_last_lr()`.\n",
      "  warnings.warn(\"To get the last learning rate computed by the scheduler, \"\n"
     ]
    },
    {
     "name": "stdout",
     "output_type": "stream",
     "text": [
      "episode: 292.00, total step: 112078.00, last_episode length: 499.00, last_episode_reward: 498.00, loss: 0.2509, lr: 0.0149\n",
      "episode: 293.00, total step: 112577.00, last_episode length: 499.00, last_episode_reward: 498.00, loss: 0.1426, lr: 0.0149\n",
      "episode: 294.00, total step: 113076.00, last_episode length: 499.00, last_episode_reward: 498.00, loss: -0.1845, lr: 0.0149\n",
      "episode: 295.00, total step: 113575.00, last_episode length: 499.00, last_episode_reward: 498.00, loss: -0.1172, lr: 0.0149\n",
      "episode: 296.00, total step: 114074.00, last_episode length: 499.00, last_episode_reward: 498.00, loss: 0.0483, lr: 0.0149\n",
      "episode: 297.00, total step: 114573.00, last_episode length: 499.00, last_episode_reward: 498.00, loss: 0.3224, lr: 0.0149\n",
      "episode: 298.00, total step: 115016.00, last_episode length: 443.00, last_episode_reward: 442.00, loss: 0.0062, lr: 0.0148\n",
      "episode: 299.00, total step: 115515.00, last_episode length: 499.00, last_episode_reward: 498.00, loss: -0.5212, lr: 0.0148\n",
      "episode: 300.00, total step: 115737.00, last_episode length: 222.00, last_episode_reward: 221.00, loss: -0.2261, lr: 0.0148\n"
     ]
    },
    {
     "name": "stderr",
     "output_type": "stream",
     "text": [
      "C:\\Users\\chery\\AppData\\Local\\Packages\\PythonSoftwareFoundation.Python.3.8_qbz5n2kfra8p0\\LocalCache\\local-packages\\Python38\\site-packages\\torch\\optim\\lr_scheduler.py:384: UserWarning: To get the last learning rate computed by the scheduler, please use `get_last_lr()`.\n",
      "  warnings.warn(\"To get the last learning rate computed by the scheduler, \"\n"
     ]
    },
    {
     "name": "stdout",
     "output_type": "stream",
     "text": [
      "episode: 301.00, total step: 116236.00, last_episode length: 499.00, last_episode_reward: 498.00, loss: -0.3374, lr: 0.0148\n",
      "episode: 1.00, total step: 26.00, last_episode length: 26.00, last_episode_reward: 25.00, loss: 0.0000, lr: 0.0200\n",
      "episode: 2.00, total step: 51.00, last_episode length: 25.00, last_episode_reward: 24.00, loss: -0.7258, lr: 0.0200\n",
      "episode: 3.00, total step: 67.00, last_episode length: 16.00, last_episode_reward: 15.00, loss: -0.6683, lr: 0.0199\n",
      "episode: 4.00, total step: 81.00, last_episode length: 14.00, last_episode_reward: 13.00, loss: -0.5699, lr: 0.0199\n",
      "episode: 5.00, total step: 104.00, last_episode length: 23.00, last_episode_reward: 22.00, loss: -0.5139, lr: 0.0199\n",
      "episode: 6.00, total step: 125.00, last_episode length: 21.00, last_episode_reward: 20.00, loss: -0.5028, lr: 0.0199\n",
      "episode: 7.00, total step: 160.00, last_episode length: 35.00, last_episode_reward: 34.00, loss: -0.4930, lr: 0.0199\n",
      "episode: 8.00, total step: 173.00, last_episode length: 13.00, last_episode_reward: 12.00, loss: -0.5527, lr: 0.0198\n",
      "episode: 9.00, total step: 199.00, last_episode length: 26.00, last_episode_reward: 25.00, loss: -0.5193, lr: 0.0198\n",
      "episode: 10.00, total step: 213.00, last_episode length: 14.00, last_episode_reward: 13.00, loss: -0.5251, lr: 0.0198\n"
     ]
    },
    {
     "name": "stderr",
     "output_type": "stream",
     "text": [
      "C:\\Users\\chery\\AppData\\Local\\Packages\\PythonSoftwareFoundation.Python.3.8_qbz5n2kfra8p0\\LocalCache\\local-packages\\Python38\\site-packages\\torch\\optim\\lr_scheduler.py:384: UserWarning: To get the last learning rate computed by the scheduler, please use `get_last_lr()`.\n",
      "  warnings.warn(\"To get the last learning rate computed by the scheduler, \"\n"
     ]
    },
    {
     "name": "stdout",
     "output_type": "stream",
     "text": [
      "episode: 11.00, total step: 227.00, last_episode length: 14.00, last_episode_reward: 13.00, loss: -0.5007, lr: 0.0198\n",
      "episode: 12.00, total step: 265.00, last_episode length: 38.00, last_episode_reward: 37.00, loss: -0.4772, lr: 0.0198\n",
      "episode: 13.00, total step: 278.00, last_episode length: 13.00, last_episode_reward: 12.00, loss: -0.5194, lr: 0.0197\n",
      "episode: 14.00, total step: 315.00, last_episode length: 37.00, last_episode_reward: 36.00, loss: -0.4994, lr: 0.0197\n",
      "episode: 15.00, total step: 336.00, last_episode length: 21.00, last_episode_reward: 20.00, loss: -0.5332, lr: 0.0197\n",
      "episode: 16.00, total step: 353.00, last_episode length: 17.00, last_episode_reward: 16.00, loss: -0.5239, lr: 0.0197\n",
      "episode: 17.00, total step: 371.00, last_episode length: 18.00, last_episode_reward: 17.00, loss: -0.5119, lr: 0.0197\n",
      "episode: 18.00, total step: 409.00, last_episode length: 38.00, last_episode_reward: 37.00, loss: -0.4994, lr: 0.0196\n",
      "episode: 19.00, total step: 420.00, last_episode length: 11.00, last_episode_reward: 10.00, loss: -0.5086, lr: 0.0196\n",
      "episode: 20.00, total step: 436.00, last_episode length: 16.00, last_episode_reward: 15.00, loss: -0.4904, lr: 0.0196\n"
     ]
    },
    {
     "name": "stderr",
     "output_type": "stream",
     "text": [
      "C:\\Users\\chery\\AppData\\Local\\Packages\\PythonSoftwareFoundation.Python.3.8_qbz5n2kfra8p0\\LocalCache\\local-packages\\Python38\\site-packages\\torch\\optim\\lr_scheduler.py:384: UserWarning: To get the last learning rate computed by the scheduler, please use `get_last_lr()`.\n",
      "  warnings.warn(\"To get the last learning rate computed by the scheduler, \"\n"
     ]
    },
    {
     "name": "stdout",
     "output_type": "stream",
     "text": [
      "episode: 21.00, total step: 481.00, last_episode length: 45.00, last_episode_reward: 44.00, loss: -0.4680, lr: 0.0196\n",
      "episode: 22.00, total step: 505.00, last_episode length: 24.00, last_episode_reward: 23.00, loss: -0.5282, lr: 0.0196\n",
      "episode: 23.00, total step: 520.00, last_episode length: 15.00, last_episode_reward: 14.00, loss: -0.5214, lr: 0.0195\n",
      "episode: 24.00, total step: 547.00, last_episode length: 27.00, last_episode_reward: 26.00, loss: -0.5063, lr: 0.0195\n",
      "episode: 25.00, total step: 584.00, last_episode length: 37.00, last_episode_reward: 36.00, loss: -0.4817, lr: 0.0195\n",
      "episode: 26.00, total step: 600.00, last_episode length: 16.00, last_episode_reward: 15.00, loss: -0.5041, lr: 0.0195\n",
      "episode: 27.00, total step: 638.00, last_episode length: 38.00, last_episode_reward: 37.00, loss: -0.5001, lr: 0.0195\n",
      "episode: 28.00, total step: 671.00, last_episode length: 33.00, last_episode_reward: 32.00, loss: -0.5177, lr: 0.0194\n",
      "episode: 29.00, total step: 702.00, last_episode length: 31.00, last_episode_reward: 30.00, loss: -0.5264, lr: 0.0194\n",
      "episode: 30.00, total step: 732.00, last_episode length: 30.00, last_episode_reward: 29.00, loss: -0.5061, lr: 0.0194\n",
      "episode: 31.00, total step: 778.00, last_episode length: 46.00, last_episode_reward: 45.00, loss: -0.5161, lr: 0.0194\n",
      "episode: 32.00, total step: 851.00, last_episode length: 73.00, last_episode_reward: 72.00, loss: -0.5651, lr: 0.0194\n"
     ]
    },
    {
     "name": "stderr",
     "output_type": "stream",
     "text": [
      "C:\\Users\\chery\\AppData\\Local\\Packages\\PythonSoftwareFoundation.Python.3.8_qbz5n2kfra8p0\\LocalCache\\local-packages\\Python38\\site-packages\\torch\\optim\\lr_scheduler.py:384: UserWarning: To get the last learning rate computed by the scheduler, please use `get_last_lr()`.\n",
      "  warnings.warn(\"To get the last learning rate computed by the scheduler, \"\n"
     ]
    },
    {
     "name": "stdout",
     "output_type": "stream",
     "text": [
      "episode: 33.00, total step: 880.00, last_episode length: 29.00, last_episode_reward: 28.00, loss: -0.6490, lr: 0.0194\n",
      "episode: 34.00, total step: 950.00, last_episode length: 70.00, last_episode_reward: 69.00, loss: -0.6416, lr: 0.0193\n",
      "episode: 35.00, total step: 1009.00, last_episode length: 59.00, last_episode_reward: 58.00, loss: -0.7438, lr: 0.0193\n",
      "episode: 36.00, total step: 1040.00, last_episode length: 31.00, last_episode_reward: 30.00, loss: -0.7949, lr: 0.0193\n",
      "episode: 37.00, total step: 1094.00, last_episode length: 54.00, last_episode_reward: 53.00, loss: -0.7863, lr: 0.0193\n",
      "episode: 38.00, total step: 1128.00, last_episode length: 34.00, last_episode_reward: 33.00, loss: -0.8066, lr: 0.0193\n",
      "episode: 39.00, total step: 1143.00, last_episode length: 15.00, last_episode_reward: 14.00, loss: -0.8134, lr: 0.0192\n",
      "episode: 40.00, total step: 1175.00, last_episode length: 32.00, last_episode_reward: 31.00, loss: -0.7778, lr: 0.0192\n",
      "episode: 41.00, total step: 1197.00, last_episode length: 22.00, last_episode_reward: 21.00, loss: -0.7626, lr: 0.0192\n",
      "episode: 42.00, total step: 1246.00, last_episode length: 49.00, last_episode_reward: 48.00, loss: -0.6956, lr: 0.0192\n",
      "episode: 43.00, total step: 1302.00, last_episode length: 56.00, last_episode_reward: 55.00, loss: -0.6563, lr: 0.0192\n",
      "episode: 44.00, total step: 1366.00, last_episode length: 64.00, last_episode_reward: 63.00, loss: -0.6676, lr: 0.0191\n"
     ]
    },
    {
     "name": "stderr",
     "output_type": "stream",
     "text": [
      "C:\\Users\\chery\\AppData\\Local\\Packages\\PythonSoftwareFoundation.Python.3.8_qbz5n2kfra8p0\\LocalCache\\local-packages\\Python38\\site-packages\\torch\\optim\\lr_scheduler.py:384: UserWarning: To get the last learning rate computed by the scheduler, please use `get_last_lr()`.\n",
      "  warnings.warn(\"To get the last learning rate computed by the scheduler, \"\n"
     ]
    },
    {
     "name": "stdout",
     "output_type": "stream",
     "text": [
      "episode: 45.00, total step: 1409.00, last_episode length: 43.00, last_episode_reward: 42.00, loss: -0.6482, lr: 0.0191\n",
      "episode: 46.00, total step: 1440.00, last_episode length: 31.00, last_episode_reward: 30.00, loss: -0.6348, lr: 0.0191\n",
      "episode: 47.00, total step: 1485.00, last_episode length: 45.00, last_episode_reward: 44.00, loss: -0.6368, lr: 0.0191\n",
      "episode: 48.00, total step: 1535.00, last_episode length: 50.00, last_episode_reward: 49.00, loss: -0.5850, lr: 0.0191\n",
      "episode: 49.00, total step: 1585.00, last_episode length: 50.00, last_episode_reward: 49.00, loss: -0.6460, lr: 0.0190\n",
      "episode: 50.00, total step: 1600.00, last_episode length: 15.00, last_episode_reward: 14.00, loss: -0.6850, lr: 0.0190\n"
     ]
    },
    {
     "name": "stderr",
     "output_type": "stream",
     "text": [
      "C:\\Users\\chery\\AppData\\Local\\Packages\\PythonSoftwareFoundation.Python.3.8_qbz5n2kfra8p0\\LocalCache\\local-packages\\Python38\\site-packages\\torch\\optim\\lr_scheduler.py:384: UserWarning: To get the last learning rate computed by the scheduler, please use `get_last_lr()`.\n",
      "  warnings.warn(\"To get the last learning rate computed by the scheduler, \"\n"
     ]
    },
    {
     "name": "stdout",
     "output_type": "stream",
     "text": [
      "episode: 51.00, total step: 1621.00, last_episode length: 21.00, last_episode_reward: 20.00, loss: -0.6866, lr: 0.0190\n",
      "episode: 52.00, total step: 1643.00, last_episode length: 22.00, last_episode_reward: 21.00, loss: -0.6240, lr: 0.0190\n",
      "episode: 53.00, total step: 1653.00, last_episode length: 10.00, last_episode_reward: 9.00, loss: -0.6115, lr: 0.0190\n",
      "episode: 54.00, total step: 1721.00, last_episode length: 68.00, last_episode_reward: 67.00, loss: -0.5837, lr: 0.0189\n",
      "episode: 55.00, total step: 1767.00, last_episode length: 46.00, last_episode_reward: 45.00, loss: -0.5711, lr: 0.0189\n",
      "episode: 56.00, total step: 1800.00, last_episode length: 33.00, last_episode_reward: 32.00, loss: -0.5691, lr: 0.0189\n",
      "episode: 57.00, total step: 1827.00, last_episode length: 27.00, last_episode_reward: 26.00, loss: -0.5306, lr: 0.0189\n",
      "episode: 58.00, total step: 1851.00, last_episode length: 24.00, last_episode_reward: 23.00, loss: -0.5280, lr: 0.0189\n",
      "episode: 59.00, total step: 1938.00, last_episode length: 87.00, last_episode_reward: 86.00, loss: -0.4994, lr: 0.0189\n",
      "episode: 60.00, total step: 2006.00, last_episode length: 68.00, last_episode_reward: 67.00, loss: -0.5845, lr: 0.0188\n"
     ]
    },
    {
     "name": "stderr",
     "output_type": "stream",
     "text": [
      "C:\\Users\\chery\\AppData\\Local\\Packages\\PythonSoftwareFoundation.Python.3.8_qbz5n2kfra8p0\\LocalCache\\local-packages\\Python38\\site-packages\\torch\\optim\\lr_scheduler.py:384: UserWarning: To get the last learning rate computed by the scheduler, please use `get_last_lr()`.\n",
      "  warnings.warn(\"To get the last learning rate computed by the scheduler, \"\n"
     ]
    },
    {
     "name": "stdout",
     "output_type": "stream",
     "text": [
      "episode: 61.00, total step: 2085.00, last_episode length: 79.00, last_episode_reward: 78.00, loss: -0.6358, lr: 0.0188\n",
      "episode: 62.00, total step: 2112.00, last_episode length: 27.00, last_episode_reward: 26.00, loss: -0.7141, lr: 0.0188\n",
      "episode: 63.00, total step: 2343.00, last_episode length: 231.00, last_episode_reward: 230.00, loss: -0.6777, lr: 0.0188\n",
      "episode: 64.00, total step: 2387.00, last_episode length: 44.00, last_episode_reward: 43.00, loss: -1.0373, lr: 0.0188\n",
      "episode: 65.00, total step: 2423.00, last_episode length: 36.00, last_episode_reward: 35.00, loss: -0.9582, lr: 0.0187\n",
      "episode: 66.00, total step: 2454.00, last_episode length: 31.00, last_episode_reward: 30.00, loss: -0.9420, lr: 0.0187\n",
      "episode: 67.00, total step: 2512.00, last_episode length: 58.00, last_episode_reward: 57.00, loss: -0.8603, lr: 0.0187\n",
      "episode: 68.00, total step: 2601.00, last_episode length: 89.00, last_episode_reward: 88.00, loss: -0.9183, lr: 0.0187\n",
      "episode: 69.00, total step: 2721.00, last_episode length: 120.00, last_episode_reward: 119.00, loss: -0.7939, lr: 0.0187\n",
      "episode: 70.00, total step: 2787.00, last_episode length: 66.00, last_episode_reward: 65.00, loss: -0.6952, lr: 0.0186\n"
     ]
    },
    {
     "name": "stderr",
     "output_type": "stream",
     "text": [
      "C:\\Users\\chery\\AppData\\Local\\Packages\\PythonSoftwareFoundation.Python.3.8_qbz5n2kfra8p0\\LocalCache\\local-packages\\Python38\\site-packages\\torch\\optim\\lr_scheduler.py:384: UserWarning: To get the last learning rate computed by the scheduler, please use `get_last_lr()`.\n",
      "  warnings.warn(\"To get the last learning rate computed by the scheduler, \"\n"
     ]
    },
    {
     "name": "stdout",
     "output_type": "stream",
     "text": [
      "episode: 71.00, total step: 2841.00, last_episode length: 54.00, last_episode_reward: 53.00, loss: -0.7608, lr: 0.0186\n",
      "episode: 72.00, total step: 2964.00, last_episode length: 123.00, last_episode_reward: 122.00, loss: -0.7859, lr: 0.0186\n",
      "episode: 73.00, total step: 3270.00, last_episode length: 306.00, last_episode_reward: 305.00, loss: -0.8441, lr: 0.0186\n",
      "episode: 74.00, total step: 3476.00, last_episode length: 206.00, last_episode_reward: 205.00, loss: -1.1437, lr: 0.0186\n",
      "episode: 75.00, total step: 3704.00, last_episode length: 228.00, last_episode_reward: 227.00, loss: -1.1307, lr: 0.0186\n",
      "episode: 76.00, total step: 4203.00, last_episode length: 499.00, last_episode_reward: 498.00, loss: -1.1001, lr: 0.0185\n",
      "episode: 77.00, total step: 4702.00, last_episode length: 499.00, last_episode_reward: 498.00, loss: -1.1922, lr: 0.0185\n",
      "episode: 78.00, total step: 5201.00, last_episode length: 499.00, last_episode_reward: 498.00, loss: -1.1927, lr: 0.0185\n",
      "episode: 79.00, total step: 5588.00, last_episode length: 387.00, last_episode_reward: 386.00, loss: -1.1699, lr: 0.0185\n",
      "episode: 80.00, total step: 5800.00, last_episode length: 212.00, last_episode_reward: 211.00, loss: -1.1374, lr: 0.0185\n",
      "episode: 81.00, total step: 5994.00, last_episode length: 194.00, last_episode_reward: 193.00, loss: -1.1126, lr: 0.0184\n"
     ]
    },
    {
     "name": "stderr",
     "output_type": "stream",
     "text": [
      "C:\\Users\\chery\\AppData\\Local\\Packages\\PythonSoftwareFoundation.Python.3.8_qbz5n2kfra8p0\\LocalCache\\local-packages\\Python38\\site-packages\\torch\\optim\\lr_scheduler.py:384: UserWarning: To get the last learning rate computed by the scheduler, please use `get_last_lr()`.\n",
      "  warnings.warn(\"To get the last learning rate computed by the scheduler, \"\n"
     ]
    },
    {
     "name": "stdout",
     "output_type": "stream",
     "text": [
      "episode: 82.00, total step: 6254.00, last_episode length: 260.00, last_episode_reward: 259.00, loss: -1.1065, lr: 0.0184\n",
      "episode: 83.00, total step: 6458.00, last_episode length: 204.00, last_episode_reward: 203.00, loss: -1.1065, lr: 0.0184\n",
      "episode: 84.00, total step: 6633.00, last_episode length: 175.00, last_episode_reward: 174.00, loss: -1.1156, lr: 0.0184\n",
      "episode: 85.00, total step: 6832.00, last_episode length: 199.00, last_episode_reward: 198.00, loss: -1.0598, lr: 0.0184\n",
      "episode: 86.00, total step: 7009.00, last_episode length: 177.00, last_episode_reward: 176.00, loss: -1.0523, lr: 0.0184\n",
      "episode: 87.00, total step: 7249.00, last_episode length: 240.00, last_episode_reward: 239.00, loss: -1.0715, lr: 0.0183\n",
      "episode: 88.00, total step: 7395.00, last_episode length: 146.00, last_episode_reward: 145.00, loss: -1.1115, lr: 0.0183\n",
      "episode: 89.00, total step: 7894.00, last_episode length: 499.00, last_episode_reward: 498.00, loss: -1.0743, lr: 0.0183\n",
      "episode: 90.00, total step: 8086.00, last_episode length: 192.00, last_episode_reward: 191.00, loss: -1.1520, lr: 0.0183\n",
      "episode: 91.00, total step: 8360.00, last_episode length: 274.00, last_episode_reward: 273.00, loss: -1.0728, lr: 0.0183\n"
     ]
    },
    {
     "name": "stderr",
     "output_type": "stream",
     "text": [
      "C:\\Users\\chery\\AppData\\Local\\Packages\\PythonSoftwareFoundation.Python.3.8_qbz5n2kfra8p0\\LocalCache\\local-packages\\Python38\\site-packages\\torch\\optim\\lr_scheduler.py:384: UserWarning: To get the last learning rate computed by the scheduler, please use `get_last_lr()`.\n",
      "  warnings.warn(\"To get the last learning rate computed by the scheduler, \"\n"
     ]
    },
    {
     "name": "stdout",
     "output_type": "stream",
     "text": [
      "episode: 92.00, total step: 8609.00, last_episode length: 249.00, last_episode_reward: 248.00, loss: -1.0916, lr: 0.0182\n",
      "episode: 93.00, total step: 8822.00, last_episode length: 213.00, last_episode_reward: 212.00, loss: -1.0665, lr: 0.0182\n",
      "episode: 94.00, total step: 9081.00, last_episode length: 259.00, last_episode_reward: 258.00, loss: -1.0650, lr: 0.0182\n",
      "episode: 95.00, total step: 9273.00, last_episode length: 192.00, last_episode_reward: 191.00, loss: -1.0840, lr: 0.0182\n",
      "episode: 96.00, total step: 9473.00, last_episode length: 200.00, last_episode_reward: 199.00, loss: -1.0838, lr: 0.0182\n",
      "episode: 97.00, total step: 9616.00, last_episode length: 143.00, last_episode_reward: 142.00, loss: -1.0439, lr: 0.0182\n",
      "episode: 98.00, total step: 9770.00, last_episode length: 154.00, last_episode_reward: 153.00, loss: -0.9895, lr: 0.0181\n",
      "episode: 99.00, total step: 9941.00, last_episode length: 171.00, last_episode_reward: 170.00, loss: -0.9560, lr: 0.0181\n",
      "episode: 100.00, total step: 10131.00, last_episode length: 190.00, last_episode_reward: 189.00, loss: -0.8814, lr: 0.0181\n",
      "episode: 101.00, total step: 10290.00, last_episode length: 159.00, last_episode_reward: 158.00, loss: -0.8833, lr: 0.0181\n"
     ]
    },
    {
     "name": "stderr",
     "output_type": "stream",
     "text": [
      "C:\\Users\\chery\\AppData\\Local\\Packages\\PythonSoftwareFoundation.Python.3.8_qbz5n2kfra8p0\\LocalCache\\local-packages\\Python38\\site-packages\\torch\\optim\\lr_scheduler.py:384: UserWarning: To get the last learning rate computed by the scheduler, please use `get_last_lr()`.\n",
      "  warnings.warn(\"To get the last learning rate computed by the scheduler, \"\n"
     ]
    },
    {
     "name": "stdout",
     "output_type": "stream",
     "text": [
      "episode: 102.00, total step: 10440.00, last_episode length: 150.00, last_episode_reward: 149.00, loss: -0.9300, lr: 0.0181\n",
      "episode: 103.00, total step: 10613.00, last_episode length: 173.00, last_episode_reward: 172.00, loss: -0.8965, lr: 0.0180\n",
      "episode: 104.00, total step: 10760.00, last_episode length: 147.00, last_episode_reward: 146.00, loss: -0.9051, lr: 0.0180\n",
      "episode: 105.00, total step: 10935.00, last_episode length: 175.00, last_episode_reward: 174.00, loss: -0.9045, lr: 0.0180\n",
      "episode: 106.00, total step: 11128.00, last_episode length: 193.00, last_episode_reward: 192.00, loss: -0.8982, lr: 0.0180\n",
      "episode: 107.00, total step: 11296.00, last_episode length: 168.00, last_episode_reward: 167.00, loss: -0.9116, lr: 0.0180\n",
      "episode: 108.00, total step: 11453.00, last_episode length: 157.00, last_episode_reward: 156.00, loss: -0.9002, lr: 0.0180\n",
      "episode: 109.00, total step: 11656.00, last_episode length: 203.00, last_episode_reward: 202.00, loss: -0.8645, lr: 0.0179\n",
      "episode: 110.00, total step: 11829.00, last_episode length: 173.00, last_episode_reward: 172.00, loss: -0.8653, lr: 0.0179\n",
      "episode: 111.00, total step: 12025.00, last_episode length: 196.00, last_episode_reward: 195.00, loss: -0.8731, lr: 0.0179\n",
      "episode: 112.00, total step: 12191.00, last_episode length: 166.00, last_episode_reward: 165.00, loss: -0.8726, lr: 0.0179\n"
     ]
    },
    {
     "name": "stderr",
     "output_type": "stream",
     "text": [
      "C:\\Users\\chery\\AppData\\Local\\Packages\\PythonSoftwareFoundation.Python.3.8_qbz5n2kfra8p0\\LocalCache\\local-packages\\Python38\\site-packages\\torch\\optim\\lr_scheduler.py:384: UserWarning: To get the last learning rate computed by the scheduler, please use `get_last_lr()`.\n",
      "  warnings.warn(\"To get the last learning rate computed by the scheduler, \"\n"
     ]
    },
    {
     "name": "stdout",
     "output_type": "stream",
     "text": [
      "episode: 113.00, total step: 12351.00, last_episode length: 160.00, last_episode_reward: 159.00, loss: -0.8511, lr: 0.0179\n",
      "episode: 114.00, total step: 12626.00, last_episode length: 275.00, last_episode_reward: 274.00, loss: -0.8384, lr: 0.0178\n",
      "episode: 115.00, total step: 12805.00, last_episode length: 179.00, last_episode_reward: 178.00, loss: -0.9030, lr: 0.0178\n",
      "episode: 116.00, total step: 13003.00, last_episode length: 198.00, last_episode_reward: 197.00, loss: -0.8901, lr: 0.0178\n",
      "episode: 117.00, total step: 13308.00, last_episode length: 305.00, last_episode_reward: 304.00, loss: -0.8553, lr: 0.0178\n",
      "episode: 118.00, total step: 13466.00, last_episode length: 158.00, last_episode_reward: 157.00, loss: -0.9224, lr: 0.0178\n",
      "episode: 119.00, total step: 13965.00, last_episode length: 499.00, last_episode_reward: 498.00, loss: -0.8934, lr: 0.0178\n",
      "episode: 120.00, total step: 14248.00, last_episode length: 283.00, last_episode_reward: 282.00, loss: -0.8843, lr: 0.0177\n",
      "episode: 121.00, total step: 14406.00, last_episode length: 158.00, last_episode_reward: 157.00, loss: -0.8327, lr: 0.0177\n",
      "episode: 122.00, total step: 14666.00, last_episode length: 260.00, last_episode_reward: 259.00, loss: -0.9256, lr: 0.0177\n"
     ]
    },
    {
     "name": "stderr",
     "output_type": "stream",
     "text": [
      "C:\\Users\\chery\\AppData\\Local\\Packages\\PythonSoftwareFoundation.Python.3.8_qbz5n2kfra8p0\\LocalCache\\local-packages\\Python38\\site-packages\\torch\\optim\\lr_scheduler.py:384: UserWarning: To get the last learning rate computed by the scheduler, please use `get_last_lr()`.\n",
      "  warnings.warn(\"To get the last learning rate computed by the scheduler, \"\n"
     ]
    },
    {
     "name": "stdout",
     "output_type": "stream",
     "text": [
      "episode: 123.00, total step: 15165.00, last_episode length: 499.00, last_episode_reward: 498.00, loss: -0.8957, lr: 0.0177\n",
      "episode: 124.00, total step: 15456.00, last_episode length: 291.00, last_episode_reward: 290.00, loss: -0.8232, lr: 0.0177\n",
      "episode: 125.00, total step: 15918.00, last_episode length: 462.00, last_episode_reward: 461.00, loss: -0.7704, lr: 0.0176\n",
      "episode: 126.00, total step: 16390.00, last_episode length: 472.00, last_episode_reward: 471.00, loss: -0.9247, lr: 0.0176\n",
      "episode: 127.00, total step: 16666.00, last_episode length: 276.00, last_episode_reward: 275.00, loss: -0.9545, lr: 0.0176\n",
      "episode: 128.00, total step: 17035.00, last_episode length: 369.00, last_episode_reward: 368.00, loss: -0.8967, lr: 0.0176\n",
      "episode: 129.00, total step: 17494.00, last_episode length: 459.00, last_episode_reward: 458.00, loss: -0.8850, lr: 0.0176\n",
      "episode: 130.00, total step: 17672.00, last_episode length: 178.00, last_episode_reward: 177.00, loss: -0.9977, lr: 0.0176\n"
     ]
    },
    {
     "name": "stderr",
     "output_type": "stream",
     "text": [
      "C:\\Users\\chery\\AppData\\Local\\Packages\\PythonSoftwareFoundation.Python.3.8_qbz5n2kfra8p0\\LocalCache\\local-packages\\Python38\\site-packages\\torch\\optim\\lr_scheduler.py:384: UserWarning: To get the last learning rate computed by the scheduler, please use `get_last_lr()`.\n",
      "  warnings.warn(\"To get the last learning rate computed by the scheduler, \"\n"
     ]
    },
    {
     "name": "stdout",
     "output_type": "stream",
     "text": [
      "episode: 131.00, total step: 18162.00, last_episode length: 490.00, last_episode_reward: 489.00, loss: -0.8816, lr: 0.0175\n",
      "episode: 132.00, total step: 18368.00, last_episode length: 206.00, last_episode_reward: 205.00, loss: -0.9079, lr: 0.0175\n",
      "episode: 133.00, total step: 18534.00, last_episode length: 166.00, last_episode_reward: 165.00, loss: -0.8342, lr: 0.0175\n",
      "episode: 134.00, total step: 18757.00, last_episode length: 223.00, last_episode_reward: 222.00, loss: -0.7405, lr: 0.0175\n",
      "episode: 135.00, total step: 19182.00, last_episode length: 425.00, last_episode_reward: 424.00, loss: -0.7636, lr: 0.0175\n",
      "episode: 136.00, total step: 19569.00, last_episode length: 387.00, last_episode_reward: 386.00, loss: -0.9172, lr: 0.0175\n",
      "episode: 137.00, total step: 19806.00, last_episode length: 237.00, last_episode_reward: 236.00, loss: -0.8764, lr: 0.0174\n",
      "episode: 138.00, total step: 20267.00, last_episode length: 461.00, last_episode_reward: 460.00, loss: -0.8352, lr: 0.0174\n",
      "episode: 139.00, total step: 20677.00, last_episode length: 410.00, last_episode_reward: 409.00, loss: -0.9378, lr: 0.0174\n",
      "episode: 140.00, total step: 21176.00, last_episode length: 499.00, last_episode_reward: 498.00, loss: -0.8745, lr: 0.0174\n",
      "episode: 141.00, total step: 21675.00, last_episode length: 499.00, last_episode_reward: 498.00, loss: -0.8603, lr: 0.0174\n"
     ]
    },
    {
     "name": "stderr",
     "output_type": "stream",
     "text": [
      "C:\\Users\\chery\\AppData\\Local\\Packages\\PythonSoftwareFoundation.Python.3.8_qbz5n2kfra8p0\\LocalCache\\local-packages\\Python38\\site-packages\\torch\\optim\\lr_scheduler.py:384: UserWarning: To get the last learning rate computed by the scheduler, please use `get_last_lr()`.\n",
      "  warnings.warn(\"To get the last learning rate computed by the scheduler, \"\n"
     ]
    },
    {
     "name": "stdout",
     "output_type": "stream",
     "text": [
      "episode: 142.00, total step: 22133.00, last_episode length: 458.00, last_episode_reward: 457.00, loss: -0.7824, lr: 0.0174\n",
      "episode: 143.00, total step: 22444.00, last_episode length: 311.00, last_episode_reward: 310.00, loss: -0.8370, lr: 0.0173\n",
      "episode: 144.00, total step: 22631.00, last_episode length: 187.00, last_episode_reward: 186.00, loss: -0.7530, lr: 0.0173\n",
      "episode: 145.00, total step: 22893.00, last_episode length: 262.00, last_episode_reward: 261.00, loss: -0.6955, lr: 0.0173\n",
      "episode: 146.00, total step: 23329.00, last_episode length: 436.00, last_episode_reward: 435.00, loss: -0.7305, lr: 0.0173\n",
      "episode: 147.00, total step: 23687.00, last_episode length: 358.00, last_episode_reward: 357.00, loss: -0.8199, lr: 0.0173\n",
      "episode: 148.00, total step: 24050.00, last_episode length: 363.00, last_episode_reward: 362.00, loss: -0.7226, lr: 0.0172\n",
      "episode: 149.00, total step: 24292.00, last_episode length: 242.00, last_episode_reward: 241.00, loss: -0.7172, lr: 0.0172\n",
      "episode: 150.00, total step: 24555.00, last_episode length: 263.00, last_episode_reward: 262.00, loss: -0.6946, lr: 0.0172\n"
     ]
    },
    {
     "name": "stderr",
     "output_type": "stream",
     "text": [
      "C:\\Users\\chery\\AppData\\Local\\Packages\\PythonSoftwareFoundation.Python.3.8_qbz5n2kfra8p0\\LocalCache\\local-packages\\Python38\\site-packages\\torch\\optim\\lr_scheduler.py:384: UserWarning: To get the last learning rate computed by the scheduler, please use `get_last_lr()`.\n",
      "  warnings.warn(\"To get the last learning rate computed by the scheduler, \"\n"
     ]
    },
    {
     "name": "stdout",
     "output_type": "stream",
     "text": [
      "episode: 151.00, total step: 25010.00, last_episode length: 455.00, last_episode_reward: 454.00, loss: -0.6955, lr: 0.0172\n",
      "episode: 152.00, total step: 25264.00, last_episode length: 254.00, last_episode_reward: 253.00, loss: -0.7698, lr: 0.0172\n",
      "episode: 153.00, total step: 25763.00, last_episode length: 499.00, last_episode_reward: 498.00, loss: -0.6827, lr: 0.0172\n",
      "episode: 154.00, total step: 26082.00, last_episode length: 319.00, last_episode_reward: 318.00, loss: -0.7625, lr: 0.0171\n",
      "episode: 155.00, total step: 26581.00, last_episode length: 499.00, last_episode_reward: 498.00, loss: -0.6479, lr: 0.0171\n",
      "episode: 156.00, total step: 26896.00, last_episode length: 315.00, last_episode_reward: 314.00, loss: -0.7242, lr: 0.0171\n",
      "episode: 157.00, total step: 27176.00, last_episode length: 280.00, last_episode_reward: 279.00, loss: -0.6455, lr: 0.0171\n",
      "episode: 158.00, total step: 27675.00, last_episode length: 499.00, last_episode_reward: 498.00, loss: -0.6298, lr: 0.0171\n",
      "episode: 159.00, total step: 27901.00, last_episode length: 226.00, last_episode_reward: 225.00, loss: -0.5898, lr: 0.0171\n",
      "episode: 160.00, total step: 28104.00, last_episode length: 203.00, last_episode_reward: 202.00, loss: -0.4984, lr: 0.0170\n"
     ]
    },
    {
     "name": "stderr",
     "output_type": "stream",
     "text": [
      "C:\\Users\\chery\\AppData\\Local\\Packages\\PythonSoftwareFoundation.Python.3.8_qbz5n2kfra8p0\\LocalCache\\local-packages\\Python38\\site-packages\\torch\\optim\\lr_scheduler.py:384: UserWarning: To get the last learning rate computed by the scheduler, please use `get_last_lr()`.\n",
      "  warnings.warn(\"To get the last learning rate computed by the scheduler, \"\n"
     ]
    },
    {
     "name": "stdout",
     "output_type": "stream",
     "text": [
      "episode: 161.00, total step: 28603.00, last_episode length: 499.00, last_episode_reward: 498.00, loss: -0.6050, lr: 0.0170\n",
      "episode: 162.00, total step: 28850.00, last_episode length: 247.00, last_episode_reward: 246.00, loss: -0.4342, lr: 0.0170\n",
      "episode: 163.00, total step: 29066.00, last_episode length: 216.00, last_episode_reward: 215.00, loss: -0.3353, lr: 0.0170\n",
      "episode: 164.00, total step: 29565.00, last_episode length: 499.00, last_episode_reward: 498.00, loss: -0.5468, lr: 0.0170\n",
      "episode: 165.00, total step: 29817.00, last_episode length: 252.00, last_episode_reward: 251.00, loss: -0.5154, lr: 0.0170\n",
      "episode: 166.00, total step: 30316.00, last_episode length: 499.00, last_episode_reward: 498.00, loss: -0.4556, lr: 0.0169\n",
      "episode: 167.00, total step: 30592.00, last_episode length: 276.00, last_episode_reward: 275.00, loss: -0.4554, lr: 0.0169\n",
      "episode: 168.00, total step: 30910.00, last_episode length: 318.00, last_episode_reward: 317.00, loss: -0.4031, lr: 0.0169\n",
      "episode: 169.00, total step: 31185.00, last_episode length: 275.00, last_episode_reward: 274.00, loss: -0.5482, lr: 0.0169\n",
      "episode: 170.00, total step: 31425.00, last_episode length: 240.00, last_episode_reward: 239.00, loss: -0.5383, lr: 0.0169\n",
      "episode: 171.00, total step: 31649.00, last_episode length: 224.00, last_episode_reward: 223.00, loss: -0.5314, lr: 0.0169\n",
      "episode: 172.00, total step: 31853.00, last_episode length: 204.00, last_episode_reward: 203.00, loss: -0.5014, lr: 0.0168\n"
     ]
    },
    {
     "name": "stderr",
     "output_type": "stream",
     "text": [
      "C:\\Users\\chery\\AppData\\Local\\Packages\\PythonSoftwareFoundation.Python.3.8_qbz5n2kfra8p0\\LocalCache\\local-packages\\Python38\\site-packages\\torch\\optim\\lr_scheduler.py:384: UserWarning: To get the last learning rate computed by the scheduler, please use `get_last_lr()`.\n",
      "  warnings.warn(\"To get the last learning rate computed by the scheduler, \"\n"
     ]
    },
    {
     "name": "stdout",
     "output_type": "stream",
     "text": [
      "episode: 173.00, total step: 32087.00, last_episode length: 234.00, last_episode_reward: 233.00, loss: -0.4807, lr: 0.0168\n",
      "episode: 174.00, total step: 32278.00, last_episode length: 191.00, last_episode_reward: 190.00, loss: -0.4723, lr: 0.0168\n",
      "episode: 175.00, total step: 32556.00, last_episode length: 278.00, last_episode_reward: 277.00, loss: -0.4612, lr: 0.0168\n",
      "episode: 176.00, total step: 32771.00, last_episode length: 215.00, last_episode_reward: 214.00, loss: -0.4372, lr: 0.0168\n",
      "episode: 177.00, total step: 33022.00, last_episode length: 251.00, last_episode_reward: 250.00, loss: -0.4685, lr: 0.0168\n",
      "episode: 178.00, total step: 33214.00, last_episode length: 192.00, last_episode_reward: 191.00, loss: -0.5223, lr: 0.0167\n",
      "episode: 179.00, total step: 33466.00, last_episode length: 252.00, last_episode_reward: 251.00, loss: -0.4605, lr: 0.0167\n",
      "episode: 180.00, total step: 33647.00, last_episode length: 181.00, last_episode_reward: 180.00, loss: -0.4313, lr: 0.0167\n"
     ]
    },
    {
     "name": "stderr",
     "output_type": "stream",
     "text": [
      "C:\\Users\\chery\\AppData\\Local\\Packages\\PythonSoftwareFoundation.Python.3.8_qbz5n2kfra8p0\\LocalCache\\local-packages\\Python38\\site-packages\\torch\\optim\\lr_scheduler.py:384: UserWarning: To get the last learning rate computed by the scheduler, please use `get_last_lr()`.\n",
      "  warnings.warn(\"To get the last learning rate computed by the scheduler, \"\n"
     ]
    },
    {
     "name": "stdout",
     "output_type": "stream",
     "text": [
      "episode: 181.00, total step: 33885.00, last_episode length: 238.00, last_episode_reward: 237.00, loss: -0.4221, lr: 0.0167\n",
      "episode: 182.00, total step: 34136.00, last_episode length: 251.00, last_episode_reward: 250.00, loss: -0.4356, lr: 0.0167\n",
      "episode: 183.00, total step: 34327.00, last_episode length: 191.00, last_episode_reward: 190.00, loss: -0.4222, lr: 0.0167\n",
      "episode: 184.00, total step: 34522.00, last_episode length: 195.00, last_episode_reward: 194.00, loss: -0.3838, lr: 0.0166\n",
      "episode: 185.00, total step: 34751.00, last_episode length: 229.00, last_episode_reward: 228.00, loss: -0.3467, lr: 0.0166\n",
      "episode: 186.00, total step: 34939.00, last_episode length: 188.00, last_episode_reward: 187.00, loss: -0.3836, lr: 0.0166\n",
      "episode: 187.00, total step: 35106.00, last_episode length: 167.00, last_episode_reward: 166.00, loss: -0.3793, lr: 0.0166\n",
      "episode: 188.00, total step: 35282.00, last_episode length: 176.00, last_episode_reward: 175.00, loss: -0.2999, lr: 0.0166\n",
      "episode: 189.00, total step: 35543.00, last_episode length: 261.00, last_episode_reward: 260.00, loss: -0.2673, lr: 0.0166\n",
      "episode: 190.00, total step: 35770.00, last_episode length: 227.00, last_episode_reward: 226.00, loss: -0.3748, lr: 0.0165\n"
     ]
    },
    {
     "name": "stderr",
     "output_type": "stream",
     "text": [
      "C:\\Users\\chery\\AppData\\Local\\Packages\\PythonSoftwareFoundation.Python.3.8_qbz5n2kfra8p0\\LocalCache\\local-packages\\Python38\\site-packages\\torch\\optim\\lr_scheduler.py:384: UserWarning: To get the last learning rate computed by the scheduler, please use `get_last_lr()`.\n",
      "  warnings.warn(\"To get the last learning rate computed by the scheduler, \"\n"
     ]
    },
    {
     "name": "stdout",
     "output_type": "stream",
     "text": [
      "episode: 191.00, total step: 36087.00, last_episode length: 317.00, last_episode_reward: 316.00, loss: -0.3767, lr: 0.0165\n",
      "episode: 192.00, total step: 36273.00, last_episode length: 186.00, last_episode_reward: 185.00, loss: -0.4362, lr: 0.0165\n",
      "episode: 193.00, total step: 36467.00, last_episode length: 194.00, last_episode_reward: 193.00, loss: -0.3918, lr: 0.0165\n",
      "episode: 194.00, total step: 36662.00, last_episode length: 195.00, last_episode_reward: 194.00, loss: -0.2978, lr: 0.0165\n",
      "episode: 195.00, total step: 36850.00, last_episode length: 188.00, last_episode_reward: 187.00, loss: -0.3062, lr: 0.0165\n",
      "episode: 196.00, total step: 37050.00, last_episode length: 200.00, last_episode_reward: 199.00, loss: -0.2836, lr: 0.0164\n",
      "episode: 197.00, total step: 37253.00, last_episode length: 203.00, last_episode_reward: 202.00, loss: -0.2859, lr: 0.0164\n",
      "episode: 198.00, total step: 37422.00, last_episode length: 169.00, last_episode_reward: 168.00, loss: -0.2960, lr: 0.0164\n",
      "episode: 199.00, total step: 37592.00, last_episode length: 170.00, last_episode_reward: 169.00, loss: -0.2252, lr: 0.0164\n",
      "episode: 200.00, total step: 37775.00, last_episode length: 183.00, last_episode_reward: 182.00, loss: -0.1789, lr: 0.0164\n",
      "episode: 201.00, total step: 37983.00, last_episode length: 208.00, last_episode_reward: 207.00, loss: -0.1803, lr: 0.0164\n"
     ]
    },
    {
     "name": "stderr",
     "output_type": "stream",
     "text": [
      "C:\\Users\\chery\\AppData\\Local\\Packages\\PythonSoftwareFoundation.Python.3.8_qbz5n2kfra8p0\\LocalCache\\local-packages\\Python38\\site-packages\\torch\\optim\\lr_scheduler.py:384: UserWarning: To get the last learning rate computed by the scheduler, please use `get_last_lr()`.\n",
      "  warnings.warn(\"To get the last learning rate computed by the scheduler, \"\n"
     ]
    },
    {
     "name": "stdout",
     "output_type": "stream",
     "text": [
      "episode: 202.00, total step: 38186.00, last_episode length: 203.00, last_episode_reward: 202.00, loss: -0.2207, lr: 0.0163\n",
      "episode: 203.00, total step: 38375.00, last_episode length: 189.00, last_episode_reward: 188.00, loss: -0.2538, lr: 0.0163\n",
      "episode: 204.00, total step: 38573.00, last_episode length: 198.00, last_episode_reward: 197.00, loss: -0.2287, lr: 0.0163\n",
      "episode: 205.00, total step: 38777.00, last_episode length: 204.00, last_episode_reward: 203.00, loss: -0.1918, lr: 0.0163\n",
      "episode: 206.00, total step: 38931.00, last_episode length: 154.00, last_episode_reward: 153.00, loss: -0.2202, lr: 0.0163\n",
      "episode: 207.00, total step: 39131.00, last_episode length: 200.00, last_episode_reward: 199.00, loss: -0.1174, lr: 0.0163\n",
      "episode: 208.00, total step: 39418.00, last_episode length: 287.00, last_episode_reward: 286.00, loss: -0.1245, lr: 0.0162\n",
      "episode: 209.00, total step: 39613.00, last_episode length: 195.00, last_episode_reward: 194.00, loss: -0.2153, lr: 0.0162\n",
      "episode: 210.00, total step: 39899.00, last_episode length: 286.00, last_episode_reward: 285.00, loss: -0.1875, lr: 0.0162\n",
      "episode: 211.00, total step: 40077.00, last_episode length: 178.00, last_episode_reward: 177.00, loss: -0.1520, lr: 0.0162\n"
     ]
    },
    {
     "name": "stderr",
     "output_type": "stream",
     "text": [
      "C:\\Users\\chery\\AppData\\Local\\Packages\\PythonSoftwareFoundation.Python.3.8_qbz5n2kfra8p0\\LocalCache\\local-packages\\Python38\\site-packages\\torch\\optim\\lr_scheduler.py:384: UserWarning: To get the last learning rate computed by the scheduler, please use `get_last_lr()`.\n",
      "  warnings.warn(\"To get the last learning rate computed by the scheduler, \"\n"
     ]
    },
    {
     "name": "stdout",
     "output_type": "stream",
     "text": [
      "episode: 212.00, total step: 40253.00, last_episode length: 176.00, last_episode_reward: 175.00, loss: -0.1202, lr: 0.0162\n",
      "episode: 213.00, total step: 40387.00, last_episode length: 134.00, last_episode_reward: 133.00, loss: 0.0212, lr: 0.0162\n",
      "episode: 214.00, total step: 40718.00, last_episode length: 331.00, last_episode_reward: 330.00, loss: 0.0792, lr: 0.0161\n",
      "episode: 215.00, total step: 40827.00, last_episode length: 109.00, last_episode_reward: 108.00, loss: -0.0651, lr: 0.0161\n",
      "episode: 216.00, total step: 41242.00, last_episode length: 415.00, last_episode_reward: 414.00, loss: -0.0266, lr: 0.0161\n",
      "episode: 217.00, total step: 41464.00, last_episode length: 222.00, last_episode_reward: 221.00, loss: -0.2266, lr: 0.0161\n",
      "episode: 218.00, total step: 41557.00, last_episode length: 93.00, last_episode_reward: 92.00, loss: 0.0420, lr: 0.0161\n",
      "episode: 219.00, total step: 42056.00, last_episode length: 499.00, last_episode_reward: 498.00, loss: 0.3009, lr: 0.0161\n",
      "episode: 220.00, total step: 42165.00, last_episode length: 109.00, last_episode_reward: 108.00, loss: -0.0704, lr: 0.0160\n",
      "episode: 221.00, total step: 42278.00, last_episode length: 113.00, last_episode_reward: 112.00, loss: 0.2450, lr: 0.0160\n"
     ]
    },
    {
     "name": "stderr",
     "output_type": "stream",
     "text": [
      "C:\\Users\\chery\\AppData\\Local\\Packages\\PythonSoftwareFoundation.Python.3.8_qbz5n2kfra8p0\\LocalCache\\local-packages\\Python38\\site-packages\\torch\\optim\\lr_scheduler.py:384: UserWarning: To get the last learning rate computed by the scheduler, please use `get_last_lr()`.\n",
      "  warnings.warn(\"To get the last learning rate computed by the scheduler, \"\n"
     ]
    },
    {
     "name": "stdout",
     "output_type": "stream",
     "text": [
      "episode: 222.00, total step: 42463.00, last_episode length: 185.00, last_episode_reward: 184.00, loss: 0.6704, lr: 0.0160\n",
      "episode: 223.00, total step: 42528.00, last_episode length: 65.00, last_episode_reward: 64.00, loss: 0.4822, lr: 0.0160\n",
      "episode: 224.00, total step: 42562.00, last_episode length: 34.00, last_episode_reward: 33.00, loss: 0.7713, lr: 0.0160\n",
      "episode: 225.00, total step: 42591.00, last_episode length: 29.00, last_episode_reward: 28.00, loss: 0.8665, lr: 0.0160\n",
      "episode: 226.00, total step: 42608.00, last_episode length: 17.00, last_episode_reward: 16.00, loss: 1.1076, lr: 0.0160\n",
      "episode: 227.00, total step: 42618.00, last_episode length: 10.00, last_episode_reward: 9.00, loss: 1.2606, lr: 0.0159\n",
      "episode: 228.00, total step: 42627.00, last_episode length: 9.00, last_episode_reward: 8.00, loss: 1.3538, lr: 0.0159\n",
      "episode: 229.00, total step: 42665.00, last_episode length: 38.00, last_episode_reward: 37.00, loss: 1.2782, lr: 0.0159\n",
      "episode: 230.00, total step: 42699.00, last_episode length: 34.00, last_episode_reward: 33.00, loss: 1.4221, lr: 0.0159\n",
      "episode: 231.00, total step: 42777.00, last_episode length: 78.00, last_episode_reward: 77.00, loss: 1.5267, lr: 0.0159\n",
      "episode: 232.00, total step: 42859.00, last_episode length: 82.00, last_episode_reward: 81.00, loss: 2.2262, lr: 0.0159\n",
      "episode: 233.00, total step: 42878.00, last_episode length: 19.00, last_episode_reward: 18.00, loss: 2.2966, lr: 0.0158\n"
     ]
    },
    {
     "name": "stderr",
     "output_type": "stream",
     "text": [
      "C:\\Users\\chery\\AppData\\Local\\Packages\\PythonSoftwareFoundation.Python.3.8_qbz5n2kfra8p0\\LocalCache\\local-packages\\Python38\\site-packages\\torch\\optim\\lr_scheduler.py:384: UserWarning: To get the last learning rate computed by the scheduler, please use `get_last_lr()`.\n",
      "  warnings.warn(\"To get the last learning rate computed by the scheduler, \"\n"
     ]
    },
    {
     "name": "stdout",
     "output_type": "stream",
     "text": [
      "episode: 234.00, total step: 42889.00, last_episode length: 11.00, last_episode_reward: 10.00, loss: 2.5138, lr: 0.0158\n",
      "episode: 235.00, total step: 42898.00, last_episode length: 9.00, last_episode_reward: 8.00, loss: 2.7604, lr: 0.0158\n",
      "episode: 236.00, total step: 42909.00, last_episode length: 11.00, last_episode_reward: 10.00, loss: 2.9563, lr: 0.0158\n",
      "episode: 237.00, total step: 42917.00, last_episode length: 8.00, last_episode_reward: 7.00, loss: 3.0746, lr: 0.0158\n",
      "episode: 238.00, total step: 42927.00, last_episode length: 10.00, last_episode_reward: 9.00, loss: 3.1522, lr: 0.0158\n"
     ]
    },
    {
     "ename": "ValueError",
     "evalue": "Expected parameter probs (Tensor of shape (400, 2)) of distribution Categorical(probs: torch.Size([400, 2])) to satisfy the constraint Simplex(), but found invalid values:\ntensor([[nan, nan],\n        [nan, nan],\n        [nan, nan],\n        [nan, nan],\n        [nan, nan],\n        [nan, nan],\n        [nan, nan],\n        [nan, nan],\n        [nan, nan],\n        [nan, nan],\n        [nan, nan],\n        [nan, nan],\n        [nan, nan],\n        [nan, nan],\n        [nan, nan],\n        [nan, nan],\n        [nan, nan],\n        [nan, nan],\n        [nan, nan],\n        [nan, nan],\n        [nan, nan],\n        [nan, nan],\n        [nan, nan],\n        [nan, nan],\n        [nan, nan],\n        [nan, nan],\n        [nan, nan],\n        [nan, nan],\n        [nan, nan],\n        [nan, nan],\n        [nan, nan],\n        [nan, nan],\n        [nan, nan],\n        [nan, nan],\n        [nan, nan],\n        [nan, nan],\n        [nan, nan],\n        [nan, nan],\n        [nan, nan],\n        [nan, nan],\n        [nan, nan],\n        [nan, nan],\n        [nan, nan],\n        [nan, nan],\n        [nan, nan],\n        [nan, nan],\n        [nan, nan],\n        [nan, nan],\n        [nan, nan],\n        [nan, nan],\n        [nan, nan],\n        [nan, nan],\n        [nan, nan],\n        [nan, nan],\n        [nan, nan],\n        [nan, nan],\n        [nan, nan],\n        [nan, nan],\n        [nan, nan],\n        [nan, nan],\n        [nan, nan],\n        [nan, nan],\n        [nan, nan],\n        [nan, nan],\n        [nan, nan],\n        [nan, nan],\n        [nan, nan],\n        [nan, nan],\n        [nan, nan],\n        [nan, nan],\n        [nan, nan],\n        [nan, nan],\n        [nan, nan],\n        [nan, nan],\n        [nan, nan],\n        [nan, nan],\n        [nan, nan],\n        [nan, nan],\n        [nan, nan],\n        [nan, nan],\n        [nan, nan],\n        [nan, nan],\n        [nan, nan],\n        [nan, nan],\n        [nan, nan],\n        [nan, nan],\n        [nan, nan],\n        [nan, nan],\n        [nan, nan],\n        [nan, nan],\n        [nan, nan],\n        [nan, nan],\n        [nan, nan],\n        [nan, nan],\n        [nan, nan],\n        [nan, nan],\n        [nan, nan],\n        [nan, nan],\n        [nan, nan],\n        [nan, nan],\n        [nan, nan],\n        [nan, nan],\n        [nan, nan],\n        [nan, nan],\n        [nan, nan],\n        [nan, nan],\n        [nan, nan],\n        [nan, nan],\n        [nan, nan],\n        [nan, nan],\n        [nan, nan],\n        [nan, nan],\n        [nan, nan],\n        [nan, nan],\n        [nan, nan],\n        [nan, nan],\n        [nan, nan],\n        [nan, nan],\n        [nan, nan],\n        [nan, nan],\n        [nan, nan],\n        [nan, nan],\n        [nan, nan],\n        [nan, nan],\n        [nan, nan],\n        [nan, nan],\n        [nan, nan],\n        [nan, nan],\n        [nan, nan],\n        [nan, nan],\n        [nan, nan],\n        [nan, nan],\n        [nan, nan],\n        [nan, nan],\n        [nan, nan],\n        [nan, nan],\n        [nan, nan],\n        [nan, nan],\n        [nan, nan],\n        [nan, nan],\n        [nan, nan],\n        [nan, nan],\n        [nan, nan],\n        [nan, nan],\n        [nan, nan],\n        [nan, nan],\n        [nan, nan],\n        [nan, nan],\n        [nan, nan],\n        [nan, nan],\n        [nan, nan],\n        [nan, nan],\n        [nan, nan],\n        [nan, nan],\n        [nan, nan],\n        [nan, nan],\n        [nan, nan],\n        [nan, nan],\n        [nan, nan],\n        [nan, nan],\n        [nan, nan],\n        [nan, nan],\n        [nan, nan],\n        [nan, nan],\n        [nan, nan],\n        [nan, nan],\n        [nan, nan],\n        [nan, nan],\n        [nan, nan],\n        [nan, nan],\n        [nan, nan],\n        [nan, nan],\n        [nan, nan],\n        [nan, nan],\n        [nan, nan],\n        [nan, nan],\n        [nan, nan],\n        [nan, nan],\n        [nan, nan],\n        [nan, nan],\n        [nan, nan],\n        [nan, nan],\n        [nan, nan],\n        [nan, nan],\n        [nan, nan],\n        [nan, nan],\n        [nan, nan],\n        [nan, nan],\n        [nan, nan],\n        [nan, nan],\n        [nan, nan],\n        [nan, nan],\n        [nan, nan],\n        [nan, nan],\n        [nan, nan],\n        [nan, nan],\n        [nan, nan],\n        [nan, nan],\n        [nan, nan],\n        [nan, nan],\n        [nan, nan],\n        [nan, nan],\n        [nan, nan],\n        [nan, nan],\n        [nan, nan],\n        [nan, nan],\n        [nan, nan],\n        [nan, nan],\n        [nan, nan],\n        [nan, nan],\n        [nan, nan],\n        [nan, nan],\n        [nan, nan],\n        [nan, nan],\n        [nan, nan],\n        [nan, nan],\n        [nan, nan],\n        [nan, nan],\n        [nan, nan],\n        [nan, nan],\n        [nan, nan],\n        [nan, nan],\n        [nan, nan],\n        [nan, nan],\n        [nan, nan],\n        [nan, nan],\n        [nan, nan],\n        [nan, nan],\n        [nan, nan],\n        [nan, nan],\n        [nan, nan],\n        [nan, nan],\n        [nan, nan],\n        [nan, nan],\n        [nan, nan],\n        [nan, nan],\n        [nan, nan],\n        [nan, nan],\n        [nan, nan],\n        [nan, nan],\n        [nan, nan],\n        [nan, nan],\n        [nan, nan],\n        [nan, nan],\n        [nan, nan],\n        [nan, nan],\n        [nan, nan],\n        [nan, nan],\n        [nan, nan],\n        [nan, nan],\n        [nan, nan],\n        [nan, nan],\n        [nan, nan],\n        [nan, nan],\n        [nan, nan],\n        [nan, nan],\n        [nan, nan],\n        [nan, nan],\n        [nan, nan],\n        [nan, nan],\n        [nan, nan],\n        [nan, nan],\n        [nan, nan],\n        [nan, nan],\n        [nan, nan],\n        [nan, nan],\n        [nan, nan],\n        [nan, nan],\n        [nan, nan],\n        [nan, nan],\n        [nan, nan],\n        [nan, nan],\n        [nan, nan],\n        [nan, nan],\n        [nan, nan],\n        [nan, nan],\n        [nan, nan],\n        [nan, nan],\n        [nan, nan],\n        [nan, nan],\n        [nan, nan],\n        [nan, nan],\n        [nan, nan],\n        [nan, nan],\n        [nan, nan],\n        [nan, nan],\n        [nan, nan],\n        [nan, nan],\n        [nan, nan],\n        [nan, nan],\n        [nan, nan],\n        [nan, nan],\n        [nan, nan],\n        [nan, nan],\n        [nan, nan],\n        [nan, nan],\n        [nan, nan],\n        [nan, nan],\n        [nan, nan],\n        [nan, nan],\n        [nan, nan],\n        [nan, nan],\n        [nan, nan],\n        [nan, nan],\n        [nan, nan],\n        [nan, nan],\n        [nan, nan],\n        [nan, nan],\n        [nan, nan],\n        [nan, nan],\n        [nan, nan],\n        [nan, nan],\n        [nan, nan],\n        [nan, nan],\n        [nan, nan],\n        [nan, nan],\n        [nan, nan],\n        [nan, nan],\n        [nan, nan],\n        [nan, nan],\n        [nan, nan],\n        [nan, nan],\n        [nan, nan],\n        [nan, nan],\n        [nan, nan],\n        [nan, nan],\n        [nan, nan],\n        [nan, nan],\n        [nan, nan],\n        [nan, nan],\n        [nan, nan],\n        [nan, nan],\n        [nan, nan],\n        [nan, nan],\n        [nan, nan],\n        [nan, nan],\n        [nan, nan],\n        [nan, nan],\n        [nan, nan],\n        [nan, nan],\n        [nan, nan],\n        [nan, nan],\n        [nan, nan],\n        [nan, nan],\n        [nan, nan],\n        [nan, nan],\n        [nan, nan],\n        [nan, nan],\n        [nan, nan],\n        [nan, nan],\n        [nan, nan],\n        [nan, nan],\n        [nan, nan],\n        [nan, nan],\n        [nan, nan],\n        [nan, nan],\n        [nan, nan],\n        [nan, nan],\n        [nan, nan],\n        [nan, nan],\n        [nan, nan],\n        [nan, nan],\n        [nan, nan],\n        [nan, nan],\n        [nan, nan],\n        [nan, nan],\n        [nan, nan],\n        [nan, nan],\n        [nan, nan],\n        [nan, nan],\n        [nan, nan],\n        [nan, nan],\n        [nan, nan],\n        [nan, nan],\n        [nan, nan],\n        [nan, nan],\n        [nan, nan],\n        [nan, nan],\n        [nan, nan],\n        [nan, nan],\n        [nan, nan],\n        [nan, nan],\n        [nan, nan],\n        [nan, nan],\n        [nan, nan],\n        [nan, nan],\n        [nan, nan],\n        [nan, nan],\n        [nan, nan],\n        [nan, nan],\n        [nan, nan],\n        [nan, nan],\n        [nan, nan],\n        [nan, nan],\n        [nan, nan],\n        [nan, nan],\n        [nan, nan],\n        [nan, nan],\n        [nan, nan],\n        [nan, nan]], grad_fn=<DivBackward0>)",
     "output_type": "error",
     "traceback": [
      "\u001b[1;31m---------------------------------------------------------------------------\u001b[0m",
      "\u001b[1;31mValueError\u001b[0m                                Traceback (most recent call last)",
      "Cell \u001b[1;32mIn[76], line 3\u001b[0m\n\u001b[0;32m      1\u001b[0m \u001b[38;5;28;01mfor\u001b[39;00m i \u001b[38;5;129;01min\u001b[39;00m \u001b[38;5;28mrange\u001b[39m(\u001b[38;5;241m3\u001b[39m):\n\u001b[0;32m      2\u001b[0m     agent \u001b[38;5;241m=\u001b[39m Agent()\n\u001b[1;32m----> 3\u001b[0m     reward_output \u001b[38;5;241m=\u001b[39m \u001b[43magent\u001b[49m\u001b[38;5;241;43m.\u001b[39;49m\u001b[43mtrain\u001b[49m\u001b[43m(\u001b[49m\u001b[43m)\u001b[49m\n\u001b[0;32m      4\u001b[0m     reward_list\u001b[38;5;241m.\u001b[39mappend(reward_output)\n",
      "Cell \u001b[1;32mIn[41], line 135\u001b[0m, in \u001b[0;36mAgent.train\u001b[1;34m(self)\u001b[0m\n\u001b[0;32m    133\u001b[0m \u001b[38;5;28;01mif\u001b[39;00m episode \u001b[38;5;241m%\u001b[39m \u001b[38;5;28mself\u001b[39m\u001b[38;5;241m.\u001b[39mupdate_freq \u001b[38;5;241m==\u001b[39m \u001b[38;5;241m0\u001b[39m:\n\u001b[0;32m    134\u001b[0m     \u001b[38;5;28;01mfor\u001b[39;00m _ \u001b[38;5;129;01min\u001b[39;00m \u001b[38;5;28mrange\u001b[39m(\u001b[38;5;28mself\u001b[39m\u001b[38;5;241m.\u001b[39mk_epoch):\n\u001b[1;32m--> 135\u001b[0m         \u001b[38;5;28;43mself\u001b[39;49m\u001b[38;5;241;43m.\u001b[39;49m\u001b[43mupdate_network\u001b[49m\u001b[43m(\u001b[49m\u001b[43m)\u001b[49m\n\u001b[0;32m    137\u001b[0m \u001b[38;5;28;01mif\u001b[39;00m episode \u001b[38;5;241m%\u001b[39m \u001b[38;5;28mself\u001b[39m\u001b[38;5;241m.\u001b[39mplot_every \u001b[38;5;241m==\u001b[39m \u001b[38;5;241m0\u001b[39m:\n\u001b[0;32m    138\u001b[0m     plot_graph(reward_history, avg_reward)\n",
      "Cell \u001b[1;32mIn[41], line 155\u001b[0m, in \u001b[0;36mAgent.update_network\u001b[1;34m(self)\u001b[0m\n\u001b[0;32m    153\u001b[0m pred_v \u001b[38;5;241m=\u001b[39m \u001b[38;5;28mself\u001b[39m\u001b[38;5;241m.\u001b[39mpolicy_network\u001b[38;5;241m.\u001b[39mv(torch\u001b[38;5;241m.\u001b[39mFloatTensor(\u001b[38;5;28mself\u001b[39m\u001b[38;5;241m.\u001b[39mmemory[\u001b[38;5;124m'\u001b[39m\u001b[38;5;124mstate\u001b[39m\u001b[38;5;124m'\u001b[39m])\u001b[38;5;241m.\u001b[39mto(device))\n\u001b[0;32m    154\u001b[0m v_loss \u001b[38;5;241m=\u001b[39m \u001b[38;5;241m0.5\u001b[39m \u001b[38;5;241m*\u001b[39m (pred_v \u001b[38;5;241m-\u001b[39m \u001b[38;5;28mself\u001b[39m\u001b[38;5;241m.\u001b[39mmemory[\u001b[38;5;124m'\u001b[39m\u001b[38;5;124mtd_target\u001b[39m\u001b[38;5;124m'\u001b[39m])\u001b[38;5;241m.\u001b[39mpow(\u001b[38;5;241m2\u001b[39m)  \u001b[38;5;66;03m# Huber loss\u001b[39;00m\n\u001b[1;32m--> 155\u001b[0m entropy \u001b[38;5;241m=\u001b[39m \u001b[43mtorch\u001b[49m\u001b[38;5;241;43m.\u001b[39;49m\u001b[43mdistributions\u001b[49m\u001b[38;5;241;43m.\u001b[39;49m\u001b[43mCategorical\u001b[49m\u001b[43m(\u001b[49m\u001b[43mpi\u001b[49m\u001b[43m)\u001b[49m\u001b[38;5;241m.\u001b[39mentropy()\n\u001b[0;32m    156\u001b[0m entropy \u001b[38;5;241m=\u001b[39m torch\u001b[38;5;241m.\u001b[39mtensor([[e] \u001b[38;5;28;01mfor\u001b[39;00m e \u001b[38;5;129;01min\u001b[39;00m entropy])\n\u001b[0;32m    157\u001b[0m \u001b[38;5;28mself\u001b[39m\u001b[38;5;241m.\u001b[39mloss \u001b[38;5;241m=\u001b[39m (\u001b[38;5;241m-\u001b[39mtorch\u001b[38;5;241m.\u001b[39mmin(surr1, surr2) \u001b[38;5;241m+\u001b[39m \u001b[38;5;28mself\u001b[39m\u001b[38;5;241m.\u001b[39mv_coef \u001b[38;5;241m*\u001b[39m v_loss \u001b[38;5;241m-\u001b[39m \u001b[38;5;28mself\u001b[39m\u001b[38;5;241m.\u001b[39mentropy_coef \u001b[38;5;241m*\u001b[39m entropy)\u001b[38;5;241m.\u001b[39mmean()\n",
      "File \u001b[1;32m~\\AppData\\Local\\Packages\\PythonSoftwareFoundation.Python.3.8_qbz5n2kfra8p0\\LocalCache\\local-packages\\Python38\\site-packages\\torch\\distributions\\categorical.py:70\u001b[0m, in \u001b[0;36mCategorical.__init__\u001b[1;34m(self, probs, logits, validate_args)\u001b[0m\n\u001b[0;32m     66\u001b[0m \u001b[38;5;28mself\u001b[39m\u001b[38;5;241m.\u001b[39m_num_events \u001b[38;5;241m=\u001b[39m \u001b[38;5;28mself\u001b[39m\u001b[38;5;241m.\u001b[39m_param\u001b[38;5;241m.\u001b[39msize()[\u001b[38;5;241m-\u001b[39m\u001b[38;5;241m1\u001b[39m]\n\u001b[0;32m     67\u001b[0m batch_shape \u001b[38;5;241m=\u001b[39m (\n\u001b[0;32m     68\u001b[0m     \u001b[38;5;28mself\u001b[39m\u001b[38;5;241m.\u001b[39m_param\u001b[38;5;241m.\u001b[39msize()[:\u001b[38;5;241m-\u001b[39m\u001b[38;5;241m1\u001b[39m] \u001b[38;5;28;01mif\u001b[39;00m \u001b[38;5;28mself\u001b[39m\u001b[38;5;241m.\u001b[39m_param\u001b[38;5;241m.\u001b[39mndimension() \u001b[38;5;241m>\u001b[39m \u001b[38;5;241m1\u001b[39m \u001b[38;5;28;01melse\u001b[39;00m torch\u001b[38;5;241m.\u001b[39mSize()\n\u001b[0;32m     69\u001b[0m )\n\u001b[1;32m---> 70\u001b[0m \u001b[38;5;28;43msuper\u001b[39;49m\u001b[43m(\u001b[49m\u001b[43m)\u001b[49m\u001b[38;5;241;43m.\u001b[39;49m\u001b[38;5;21;43m__init__\u001b[39;49m\u001b[43m(\u001b[49m\u001b[43mbatch_shape\u001b[49m\u001b[43m,\u001b[49m\u001b[43m \u001b[49m\u001b[43mvalidate_args\u001b[49m\u001b[38;5;241;43m=\u001b[39;49m\u001b[43mvalidate_args\u001b[49m\u001b[43m)\u001b[49m\n",
      "File \u001b[1;32m~\\AppData\\Local\\Packages\\PythonSoftwareFoundation.Python.3.8_qbz5n2kfra8p0\\LocalCache\\local-packages\\Python38\\site-packages\\torch\\distributions\\distribution.py:68\u001b[0m, in \u001b[0;36mDistribution.__init__\u001b[1;34m(self, batch_shape, event_shape, validate_args)\u001b[0m\n\u001b[0;32m     66\u001b[0m         valid \u001b[38;5;241m=\u001b[39m constraint\u001b[38;5;241m.\u001b[39mcheck(value)\n\u001b[0;32m     67\u001b[0m         \u001b[38;5;28;01mif\u001b[39;00m \u001b[38;5;129;01mnot\u001b[39;00m valid\u001b[38;5;241m.\u001b[39mall():\n\u001b[1;32m---> 68\u001b[0m             \u001b[38;5;28;01mraise\u001b[39;00m \u001b[38;5;167;01mValueError\u001b[39;00m(\n\u001b[0;32m     69\u001b[0m                 \u001b[38;5;124mf\u001b[39m\u001b[38;5;124m\"\u001b[39m\u001b[38;5;124mExpected parameter \u001b[39m\u001b[38;5;132;01m{\u001b[39;00mparam\u001b[38;5;132;01m}\u001b[39;00m\u001b[38;5;124m \u001b[39m\u001b[38;5;124m\"\u001b[39m\n\u001b[0;32m     70\u001b[0m                 \u001b[38;5;124mf\u001b[39m\u001b[38;5;124m\"\u001b[39m\u001b[38;5;124m(\u001b[39m\u001b[38;5;132;01m{\u001b[39;00m\u001b[38;5;28mtype\u001b[39m(value)\u001b[38;5;241m.\u001b[39m\u001b[38;5;18m__name__\u001b[39m\u001b[38;5;132;01m}\u001b[39;00m\u001b[38;5;124m of shape \u001b[39m\u001b[38;5;132;01m{\u001b[39;00m\u001b[38;5;28mtuple\u001b[39m(value\u001b[38;5;241m.\u001b[39mshape)\u001b[38;5;132;01m}\u001b[39;00m\u001b[38;5;124m) \u001b[39m\u001b[38;5;124m\"\u001b[39m\n\u001b[0;32m     71\u001b[0m                 \u001b[38;5;124mf\u001b[39m\u001b[38;5;124m\"\u001b[39m\u001b[38;5;124mof distribution \u001b[39m\u001b[38;5;132;01m{\u001b[39;00m\u001b[38;5;28mrepr\u001b[39m(\u001b[38;5;28mself\u001b[39m)\u001b[38;5;132;01m}\u001b[39;00m\u001b[38;5;124m \u001b[39m\u001b[38;5;124m\"\u001b[39m\n\u001b[0;32m     72\u001b[0m                 \u001b[38;5;124mf\u001b[39m\u001b[38;5;124m\"\u001b[39m\u001b[38;5;124mto satisfy the constraint \u001b[39m\u001b[38;5;132;01m{\u001b[39;00m\u001b[38;5;28mrepr\u001b[39m(constraint)\u001b[38;5;132;01m}\u001b[39;00m\u001b[38;5;124m, \u001b[39m\u001b[38;5;124m\"\u001b[39m\n\u001b[0;32m     73\u001b[0m                 \u001b[38;5;124mf\u001b[39m\u001b[38;5;124m\"\u001b[39m\u001b[38;5;124mbut found invalid values:\u001b[39m\u001b[38;5;130;01m\\n\u001b[39;00m\u001b[38;5;132;01m{\u001b[39;00mvalue\u001b[38;5;132;01m}\u001b[39;00m\u001b[38;5;124m\"\u001b[39m\n\u001b[0;32m     74\u001b[0m             )\n\u001b[0;32m     75\u001b[0m \u001b[38;5;28msuper\u001b[39m()\u001b[38;5;241m.\u001b[39m\u001b[38;5;21m__init__\u001b[39m()\n",
      "\u001b[1;31mValueError\u001b[0m: Expected parameter probs (Tensor of shape (400, 2)) of distribution Categorical(probs: torch.Size([400, 2])) to satisfy the constraint Simplex(), but found invalid values:\ntensor([[nan, nan],\n        [nan, nan],\n        [nan, nan],\n        [nan, nan],\n        [nan, nan],\n        [nan, nan],\n        [nan, nan],\n        [nan, nan],\n        [nan, nan],\n        [nan, nan],\n        [nan, nan],\n        [nan, nan],\n        [nan, nan],\n        [nan, nan],\n        [nan, nan],\n        [nan, nan],\n        [nan, nan],\n        [nan, nan],\n        [nan, nan],\n        [nan, nan],\n        [nan, nan],\n        [nan, nan],\n        [nan, nan],\n        [nan, nan],\n        [nan, nan],\n        [nan, nan],\n        [nan, nan],\n        [nan, nan],\n        [nan, nan],\n        [nan, nan],\n        [nan, nan],\n        [nan, nan],\n        [nan, nan],\n        [nan, nan],\n        [nan, nan],\n        [nan, nan],\n        [nan, nan],\n        [nan, nan],\n        [nan, nan],\n        [nan, nan],\n        [nan, nan],\n        [nan, nan],\n        [nan, nan],\n        [nan, nan],\n        [nan, nan],\n        [nan, nan],\n        [nan, nan],\n        [nan, nan],\n        [nan, nan],\n        [nan, nan],\n        [nan, nan],\n        [nan, nan],\n        [nan, nan],\n        [nan, nan],\n        [nan, nan],\n        [nan, nan],\n        [nan, nan],\n        [nan, nan],\n        [nan, nan],\n        [nan, nan],\n        [nan, nan],\n        [nan, nan],\n        [nan, nan],\n        [nan, nan],\n        [nan, nan],\n        [nan, nan],\n        [nan, nan],\n        [nan, nan],\n        [nan, nan],\n        [nan, nan],\n        [nan, nan],\n        [nan, nan],\n        [nan, nan],\n        [nan, nan],\n        [nan, nan],\n        [nan, nan],\n        [nan, nan],\n        [nan, nan],\n        [nan, nan],\n        [nan, nan],\n        [nan, nan],\n        [nan, nan],\n        [nan, nan],\n        [nan, nan],\n        [nan, nan],\n        [nan, nan],\n        [nan, nan],\n        [nan, nan],\n        [nan, nan],\n        [nan, nan],\n        [nan, nan],\n        [nan, nan],\n        [nan, nan],\n        [nan, nan],\n        [nan, nan],\n        [nan, nan],\n        [nan, nan],\n        [nan, nan],\n        [nan, nan],\n        [nan, nan],\n        [nan, nan],\n        [nan, nan],\n        [nan, nan],\n        [nan, nan],\n        [nan, nan],\n        [nan, nan],\n        [nan, nan],\n        [nan, nan],\n        [nan, nan],\n        [nan, nan],\n        [nan, nan],\n        [nan, nan],\n        [nan, nan],\n        [nan, nan],\n        [nan, nan],\n        [nan, nan],\n        [nan, nan],\n        [nan, nan],\n        [nan, nan],\n        [nan, nan],\n        [nan, nan],\n        [nan, nan],\n        [nan, nan],\n        [nan, nan],\n        [nan, nan],\n        [nan, nan],\n        [nan, nan],\n        [nan, nan],\n        [nan, nan],\n        [nan, nan],\n        [nan, nan],\n        [nan, nan],\n        [nan, nan],\n        [nan, nan],\n        [nan, nan],\n        [nan, nan],\n        [nan, nan],\n        [nan, nan],\n        [nan, nan],\n        [nan, nan],\n        [nan, nan],\n        [nan, nan],\n        [nan, nan],\n        [nan, nan],\n        [nan, nan],\n        [nan, nan],\n        [nan, nan],\n        [nan, nan],\n        [nan, nan],\n        [nan, nan],\n        [nan, nan],\n        [nan, nan],\n        [nan, nan],\n        [nan, nan],\n        [nan, nan],\n        [nan, nan],\n        [nan, nan],\n        [nan, nan],\n        [nan, nan],\n        [nan, nan],\n        [nan, nan],\n        [nan, nan],\n        [nan, nan],\n        [nan, nan],\n        [nan, nan],\n        [nan, nan],\n        [nan, nan],\n        [nan, nan],\n        [nan, nan],\n        [nan, nan],\n        [nan, nan],\n        [nan, nan],\n        [nan, nan],\n        [nan, nan],\n        [nan, nan],\n        [nan, nan],\n        [nan, nan],\n        [nan, nan],\n        [nan, nan],\n        [nan, nan],\n        [nan, nan],\n        [nan, nan],\n        [nan, nan],\n        [nan, nan],\n        [nan, nan],\n        [nan, nan],\n        [nan, nan],\n        [nan, nan],\n        [nan, nan],\n        [nan, nan],\n        [nan, nan],\n        [nan, nan],\n        [nan, nan],\n        [nan, nan],\n        [nan, nan],\n        [nan, nan],\n        [nan, nan],\n        [nan, nan],\n        [nan, nan],\n        [nan, nan],\n        [nan, nan],\n        [nan, nan],\n        [nan, nan],\n        [nan, nan],\n        [nan, nan],\n        [nan, nan],\n        [nan, nan],\n        [nan, nan],\n        [nan, nan],\n        [nan, nan],\n        [nan, nan],\n        [nan, nan],\n        [nan, nan],\n        [nan, nan],\n        [nan, nan],\n        [nan, nan],\n        [nan, nan],\n        [nan, nan],\n        [nan, nan],\n        [nan, nan],\n        [nan, nan],\n        [nan, nan],\n        [nan, nan],\n        [nan, nan],\n        [nan, nan],\n        [nan, nan],\n        [nan, nan],\n        [nan, nan],\n        [nan, nan],\n        [nan, nan],\n        [nan, nan],\n        [nan, nan],\n        [nan, nan],\n        [nan, nan],\n        [nan, nan],\n        [nan, nan],\n        [nan, nan],\n        [nan, nan],\n        [nan, nan],\n        [nan, nan],\n        [nan, nan],\n        [nan, nan],\n        [nan, nan],\n        [nan, nan],\n        [nan, nan],\n        [nan, nan],\n        [nan, nan],\n        [nan, nan],\n        [nan, nan],\n        [nan, nan],\n        [nan, nan],\n        [nan, nan],\n        [nan, nan],\n        [nan, nan],\n        [nan, nan],\n        [nan, nan],\n        [nan, nan],\n        [nan, nan],\n        [nan, nan],\n        [nan, nan],\n        [nan, nan],\n        [nan, nan],\n        [nan, nan],\n        [nan, nan],\n        [nan, nan],\n        [nan, nan],\n        [nan, nan],\n        [nan, nan],\n        [nan, nan],\n        [nan, nan],\n        [nan, nan],\n        [nan, nan],\n        [nan, nan],\n        [nan, nan],\n        [nan, nan],\n        [nan, nan],\n        [nan, nan],\n        [nan, nan],\n        [nan, nan],\n        [nan, nan],\n        [nan, nan],\n        [nan, nan],\n        [nan, nan],\n        [nan, nan],\n        [nan, nan],\n        [nan, nan],\n        [nan, nan],\n        [nan, nan],\n        [nan, nan],\n        [nan, nan],\n        [nan, nan],\n        [nan, nan],\n        [nan, nan],\n        [nan, nan],\n        [nan, nan],\n        [nan, nan],\n        [nan, nan],\n        [nan, nan],\n        [nan, nan],\n        [nan, nan],\n        [nan, nan],\n        [nan, nan],\n        [nan, nan],\n        [nan, nan],\n        [nan, nan],\n        [nan, nan],\n        [nan, nan],\n        [nan, nan],\n        [nan, nan],\n        [nan, nan],\n        [nan, nan],\n        [nan, nan],\n        [nan, nan],\n        [nan, nan],\n        [nan, nan],\n        [nan, nan],\n        [nan, nan],\n        [nan, nan],\n        [nan, nan],\n        [nan, nan],\n        [nan, nan],\n        [nan, nan],\n        [nan, nan],\n        [nan, nan],\n        [nan, nan],\n        [nan, nan],\n        [nan, nan],\n        [nan, nan],\n        [nan, nan],\n        [nan, nan],\n        [nan, nan],\n        [nan, nan],\n        [nan, nan],\n        [nan, nan],\n        [nan, nan],\n        [nan, nan],\n        [nan, nan],\n        [nan, nan],\n        [nan, nan],\n        [nan, nan],\n        [nan, nan],\n        [nan, nan],\n        [nan, nan],\n        [nan, nan],\n        [nan, nan],\n        [nan, nan],\n        [nan, nan],\n        [nan, nan],\n        [nan, nan],\n        [nan, nan],\n        [nan, nan],\n        [nan, nan],\n        [nan, nan],\n        [nan, nan],\n        [nan, nan],\n        [nan, nan],\n        [nan, nan],\n        [nan, nan],\n        [nan, nan],\n        [nan, nan],\n        [nan, nan],\n        [nan, nan],\n        [nan, nan],\n        [nan, nan],\n        [nan, nan],\n        [nan, nan],\n        [nan, nan],\n        [nan, nan],\n        [nan, nan],\n        [nan, nan],\n        [nan, nan],\n        [nan, nan],\n        [nan, nan],\n        [nan, nan],\n        [nan, nan],\n        [nan, nan],\n        [nan, nan],\n        [nan, nan],\n        [nan, nan],\n        [nan, nan],\n        [nan, nan],\n        [nan, nan],\n        [nan, nan],\n        [nan, nan],\n        [nan, nan],\n        [nan, nan],\n        [nan, nan],\n        [nan, nan],\n        [nan, nan],\n        [nan, nan],\n        [nan, nan],\n        [nan, nan],\n        [nan, nan],\n        [nan, nan],\n        [nan, nan],\n        [nan, nan],\n        [nan, nan],\n        [nan, nan],\n        [nan, nan],\n        [nan, nan]], grad_fn=<DivBackward0>)"
     ]
    },
    {
     "data": {
      "image/png": "[encoded data removed]",
      "text/plain": [
       "<Figure size 640x480 with 1 Axes>"
      ]
     },
     "metadata": {},
     "output_type": "display_data"
    }
   ],
   "source": [
    "for i in range(3):\n",
    "    agent = Agent()\n",
    "    reward_output = agent.train()\n",
    "    reward_list.append(reward_output)"
   ]
  },
  {
   "cell_type": "code",
   "execution_count": 77,
   "metadata": {},
   "outputs": [],
   "source": [
    "\n",
    "for i in range(len(reward_list)):\n",
    "    if np.mean(reward_list[i]) < 250:\n",
    "        print(i)"
   ]
  },
  {
   "cell_type": "code",
   "execution_count": 78,
   "metadata": {},
   "outputs": [
    {
     "data": {
      "text/plain": [
       "<matplotlib.collections.PolyCollection at 0x177f29e3910>"
      ]
     },
     "execution_count": 78,
     "metadata": {},
     "output_type": "execute_result"
    },
    {
     "data": {
      "image/png": "[encoded data removed]",
      "text/plain": [
       "<Figure size 640x480 with 1 Axes>"
      ]
     },
     "metadata": {},
     "output_type": "display_data"
    }
   ],
   "source": [
    "reward_list_trunc = [row[:300] for row in reward_list]\n",
    "mean = np.mean(reward_list_trunc, axis = 0)\n",
    "plt.plot(range(300), mean[:300])\n",
    "par_1_75, par_1_25 = np.percentile(reward_list_trunc, [75, 25], axis = 0)\n",
    "plt.fill_between(range(300), par_1_25[:300],  par_1_75[:300], alpha = 0.5)"
   ]
  },
  {
   "cell_type": "code",
   "execution_count": 79,
   "metadata": {},
   "outputs": [
    {
     "name": "stdout",
     "output_type": "stream",
     "text": [
      "dictionary saved successfully to file\n"
     ]
    }
   ],
   "source": [
    "import pickle\n",
    "dataStore = {}\n",
    "\n",
    "dataStore['PPO_GAE'] = reward_list_trunc\n",
    "    \n",
    "with open('./' + 'Results_PPO+GAE_CP' + '.pkl', 'wb') as fp:\n",
    "        pickle.dump(dataStore, fp)\n",
    "        print('dictionary saved successfully to file')"
   ]
  }
 ],
 "metadata": {
  "kernelspec": {
   "display_name": "Python 3",
   "language": "python",
   "name": "python3"
  },
  "language_info": {
   "codemirror_mode": {
    "name": "ipython",
    "version": 3
   },
   "file_extension": ".py",
   "mimetype": "text/x-python",
   "name": "python",
   "nbconvert_exporter": "python",
   "pygments_lexer": "ipython3",
   "version": "3.8.10"
  }
 },
 "nbformat": 4,
 "nbformat_minor": 2
}
